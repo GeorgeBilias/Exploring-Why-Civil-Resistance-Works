{
 "cells": [
  {
   "cell_type": "markdown",
   "metadata": {},
   "source": [
    "## Downloading the Libraries that are required: "
   ]
  },
  {
   "cell_type": "markdown",
   "metadata": {},
   "source": [
    "We have already installed all the packages that we need to use in this assignment for the previous one except of seaborn. We install it by running the command `pip install seaborn` in cmd"
   ]
  },
  {
   "cell_type": "markdown",
   "metadata": {},
   "source": [
    "## We import the libraries needed for the assignment"
   ]
  },
  {
   "cell_type": "code",
   "execution_count": null,
   "metadata": {},
   "outputs": [],
   "source": [
    "import pandas as pd\n",
    "import numpy as np\n",
    "import matplotlib.pyplot as plt\n",
    "import seaborn as sns\n",
    "\n",
    "# pip install xlrd"
   ]
  },
  {
   "cell_type": "markdown",
   "metadata": {},
   "source": [
    "## 1. Exploration of Historical Trends"
   ]
  },
  {
   "cell_type": "markdown",
   "metadata": {},
   "source": [
    "The first thing we have to do is read the source.xlsx file and save the dataframe using pandas."
   ]
  },
  {
   "cell_type": "code",
   "execution_count": null,
   "metadata": {},
   "outputs": [],
   "source": [
    "df = pd.read_excel('source.xlsx')"
   ]
  },
  {
   "cell_type": "markdown",
   "metadata": {},
   "source": [
    "Now, since we need to calculate the non violent and violent occurencies per decade, we will have to create a new column, decade, which is going to be calculated by the end-year. After doing that, we will also group by the data by decade, save that and keep only the columns neccecary to new dataframe, for simplicity reasons."
   ]
  },
  {
   "cell_type": "code",
   "execution_count": null,
   "metadata": {},
   "outputs": [],
   "source": [
    "df['DECADE'] = (df['EYEAR'] // 10) * 10\n",
    "\n",
    "df_grouped = df.groupby(['DECADE', 'VIOL']).size().unstack(fill_value=0).reset_index()\n",
    "df_grouped.columns = ['DECADE','NON VIOLENT','VIOLENT']\n"
   ]
  },
  {
   "cell_type": "markdown",
   "metadata": {},
   "source": [
    "Now the last thing we need to do is save the columns we need to variables (optional, but doing it for better readability) and with these variables we create the stackplot. For this plot, we use the `sns.set(style=\"whitegrid\")` just so we can have the white lines in the plot and match exactly the example given to us. Also, we add the legend to the upper left and we set the xlim for the exact same reason (matching the example)"
   ]
  },
  {
   "cell_type": "code",
   "execution_count": null,
   "metadata": {},
   "outputs": [],
   "source": [
    "\n",
    "# Creating a stack plot\n",
    "\n",
    "decades = df_grouped['DECADE']\n",
    "nonviolent = df_grouped['NON VIOLENT']\n",
    "violent = df_grouped['VIOLENT']\n",
    "\n",
    "sns.set(style=\"whitegrid\")\n",
    "plt.stackplot(decades, violent, nonviolent, labels=['Violent', 'Nonviolent'])\n",
    "plt.grid(True)\n",
    "# Adding labels and title\n",
    "plt.xlabel('decade')\n",
    "plt.ylabel('campaigns')\n",
    "plt.legend(loc='upper left')\n",
    "\n",
    "plt.xlim(min(decades), max(decades))\n",
    "\n",
    "# Display the plot\n",
    "plt.show()"
   ]
  },
  {
   "cell_type": "markdown",
   "metadata": {},
   "source": [
    "Now for the second plot since we want to calculate the percentage of success of non violent campaigns per decade and their number, the first thing we need to do is separate the data accordingly."
   ]
  },
  {
   "cell_type": "markdown",
   "metadata": {},
   "source": [
    "First of all, we want to get the campaigns that were successful and non violent per decade, we do that below by getting these campaigns and we are grouping them by their decade so we can get the amount and save it to a new dataframe called `success_by_decade`."
   ]
  },
  {
   "cell_type": "code",
   "execution_count": null,
   "metadata": {},
   "outputs": [],
   "source": [
    "success_by_decade = df[(df['SUCCESS'] == 1) & (df['VIOL'] == 0)]\n",
    "success_by_decade = success_by_decade.groupby('DECADE').size().reset_index(name='success_count')"
   ]
  },
  {
   "cell_type": "markdown",
   "metadata": {},
   "source": [
    "After that, we get all the non violent campaigns and calculate the amount per decade so we can use them later to calculate the percentages. We save this dataframe as `total_by_decade`"
   ]
  },
  {
   "cell_type": "code",
   "execution_count": null,
   "metadata": {},
   "outputs": [],
   "source": [
    "total_by_decade = df[(df['VIOL'] == 0)]\n",
    "total_by_decade = total_by_decade.groupby('DECADE').size().reset_index(name='total_count')"
   ]
  },
  {
   "cell_type": "markdown",
   "metadata": {},
   "source": [
    "Now all we need to do is merge these 2 dataframes we just created into the new merged dataframe.After doing that, all we have to do is get the percentages by diving the amount of successful non violent campaigns with the total amount of non violent campaigns. "
   ]
  },
  {
   "cell_type": "code",
   "execution_count": null,
   "metadata": {},
   "outputs": [],
   "source": [
    "merged_df = pd.merge(total_by_decade, success_by_decade, on='DECADE', how='left').fillna(0)\n",
    "merged_df['success_percentage'] = (merged_df['success_count'] / merged_df['total_count'])"
   ]
  },
  {
   "cell_type": "markdown",
   "metadata": {},
   "source": [
    "And now we just create the plot."
   ]
  },
  {
   "cell_type": "code",
   "execution_count": null,
   "metadata": {},
   "outputs": [],
   "source": [
    "\n",
    "width = 2.5  # the width of the bars\n",
    "x = merged_df['DECADE'] # SETTING THE X AXIS AS THE DECADES\n",
    "y1 = merged_df['total_count'] # SETTING THE Y1 AXIS AS THE TOTAL COUNT\n",
    "y2 = merged_df['success_percentage'] # SETTING THE Y2 AXIS AS THE SUCCESS PERCENTAGE\n",
    "\n",
    "fig = plt.figure(figsize=[12,6]) # SETTING THE FIGURE SIZE\n",
    "ax1 = fig.add_subplot(111) # SETTING THE SUBPLOT\n",
    "ax2 = ax1.twinx()  # instantiate a second axes that shares the same x-axis\n",
    "\n",
    "ax1.bar(x - width/2, y1, width, color='b', label='number of nonviolent campaigns') # PLOTTING THE BAR CHART 1\n",
    "ax1.grid(False) # REMOVING THE GRID\n",
    "ax1.set_ylabel('campaigns') # SETTING THE Y1 LABEL\n",
    "ax2.set_ylabel('percentage') # SETTING THE Y2 LABEL\n",
    "ax2.bar(x + width/2, y2, width, color='orange', label='percentage success') # PLOTTING THE BAR CHART 2\n",
    "ax2.grid(False) # REMOVING THE GRID\n",
    "\n",
    "fig.legend(bbox_to_anchor=(0.12, 0.88), loc='upper left', fontsize=12) # SETTING THE LEGEND\n",
    "\n",
    "plt.show()"
   ]
  },
  {
   "cell_type": "markdown",
   "metadata": {},
   "source": [
    "For the first part of the 3rd plot we do exactly as above but despite of the non violent, this time we are doing it for the violent campaigns."
   ]
  },
  {
   "cell_type": "code",
   "execution_count": null,
   "metadata": {},
   "outputs": [],
   "source": [
    "success_by_decade2 = df[(df['SUCCESS'] == 1) & (df['VIOL'] == 1)]\n",
    "success_by_decade2 = success_by_decade2.groupby('DECADE').size().reset_index(name='success_count')\n",
    "\n",
    "total_by_decade2 = df[(df['VIOL'] == 1)]\n",
    "total_by_decade2 = total_by_decade2.groupby('DECADE').size().reset_index(name='total_count')\n",
    "\n",
    "merged_df2 = pd.merge(total_by_decade2, success_by_decade2, on='DECADE', how='left').fillna(0)\n",
    "merged_df2['success_percentage'] = (merged_df2['success_count'] / merged_df2['total_count'])"
   ]
  },
  {
   "cell_type": "markdown",
   "metadata": {},
   "source": [
    "Now we only need to plot the bar by setting the y1 and y2 axis as the percentages of the non violent and violent campaigns and the x axis the decades."
   ]
  },
  {
   "cell_type": "code",
   "execution_count": null,
   "metadata": {},
   "outputs": [],
   "source": [
    "width = 2.5  # the width of the bars\n",
    "fig = plt.figure(figsize=[15,8]) # SETTING THE FIGURE SIZE\n",
    "x = merged_df2['DECADE'] # SETTING THE X AXIS AS THE DECADES\n",
    "y1 = merged_df2['success_percentage'] # SETTING THE Y1 AXIS AS THE SUCCESS PERCENTAGE OF VIOLENT CAMPAIGNS\n",
    "y2 = merged_df['success_percentage'] # SETTING THE Y2 AXIS AS THE SUCCESS PERCENTAGE OF NONVIOLENT CAMPAIGNS\n",
    "ax = fig.add_subplot(111) # SETTING THE SUBPLOT\n",
    "b2 = ax.bar(x + width/2, y1, width, color='orangered') # PLOTTING THE BAR CHART 1\n",
    "b1 = ax.bar(x - width/2, y2, width, color='b') # PLOTTING THE BAR CHART 2\n",
    "plt.xlabel('decade') # SETTING THE X LABEL\n",
    "plt.ylabel('success rate') # SETTING THE Y LABEL\n",
    "ax.legend((b1[0], b2[0]), ('nonviolent', 'violent'), fontsize=12) # SETTING THE LEGEND\n",
    "\n",
    "plt.show()"
   ]
  },
  {
   "cell_type": "markdown",
   "metadata": {},
   "source": [
    "## 2. Largest Resistance Campaigns, 1946-2014"
   ]
  },
  {
   "cell_type": "markdown",
   "metadata": {},
   "source": [
    "First of all we need to filter the campagins whee the population is at least 2%, we do that and save it to a new dataframe called `filtered_df`"
   ]
  },
  {
   "cell_type": "code",
   "execution_count": null,
   "metadata": {},
   "outputs": [],
   "source": [
    "# Filter campaigns with participation percentage at least 2.0%\n",
    "filtered_df = df[df['PERCENTAGE POPULAR PARTICIPATION'] >= 0.02]"
   ]
  },
  {
   "cell_type": "markdown",
   "metadata": {},
   "source": [
    "Now all we need to do before creating the plot is sorting the dataframe by the percentage of participation in descending order and multiplying the percentage column with 100 so we can get it to the right format to match the example numbers in the plot given."
   ]
  },
  {
   "cell_type": "code",
   "execution_count": null,
   "metadata": {},
   "outputs": [],
   "source": [
    "# Sort the DataFrame by participation percentage in descending order\n",
    "sorted_df = filtered_df.sort_values(by='PERCENTAGE POPULAR PARTICIPATION', ascending=False)\n",
    "sorted_df['PERCENTAGE POPULAR PARTICIPATION'] = sorted_df['PERCENTAGE POPULAR PARTICIPATION'] * 100.0"
   ]
  },
  {
   "cell_type": "markdown",
   "metadata": {},
   "source": [
    "Now all we need to do is create the plot.\n",
    "\n",
    " * We create the barplot by setting our x axis to the percentage and the y axis to the location and target as one string (to match the example) and set its color as black. (stock color of bar)\n",
    " \n",
    " * In the for loop we set the text for the numbers showing in each bar.We also set the color of each bar based of if they were limited, successful or unsuccessful.\n",
    "\n",
    " * Then we just set the labels, use the gca so we can manipulate the percentages in the x-axis. (0.0%, 10.0%, etc.)\n",
    "\n",
    " * and finally, we create a custom legend for the plot.\n"
   ]
  },
  {
   "cell_type": "code",
   "execution_count": null,
   "metadata": {},
   "outputs": [],
   "source": [
    "plt.figure(figsize=(12, 10)) # SETTING THE FIGURE SIZE\n",
    "\n",
    "ax = sns.barplot(x=sorted_df['PERCENTAGE POPULAR PARTICIPATION'], y=sorted_df['LOCATION']+': '+sorted_df['TARGET'], data=sorted_df, color='black') # PLOTTING THE BAR CHART\n",
    "\n",
    "for bar, values,success,limited in zip(ax.patches, sorted_df['PERCENTAGE POPULAR PARTICIPATION'],sorted_df['SUCCESS'],sorted_df['LIMITED']): # SETTING THE TEXT ON THE BAR CHART AND COLORING THE BARS\n",
    "    text_x = bar.get_width() # SETTING THE TEXT X AXIS\n",
    "    text_y = bar.get_y() + bar.get_height() / 2 # SETTING THE TEXT Y AXIS\n",
    "    text = '{:.2f}'.format(values) # SETTING THE TEXT\n",
    "    ax.text(text_x, text_y, text, ha='right', va='center', fontsize=10,color='white') # SETTING THE TEXT PARAMETERS\n",
    "    if  limited == 1: \n",
    "        bar.set_color('grey') # SETTING THE COLOR OF THE BAR IF THE CAMPAIGN ACHIEVED MAJOR CONCESSIONS SHORT OF FULL SUCCESS\n",
    "    elif success == 0:\n",
    "        bar.set_color('red') # SETTING THE COLOR OF THE BAR IF THE CAMPAIGN FAILED\n",
    "    else:\n",
    "        bar.set_color('black')  # SETTING THE COLOR OF THE BAR IF THE CAMPAIGN SUCCEEDED\n",
    "\n",
    "plt.xlabel('Percent population participating in peak event') # SETTING THE X LABEL\n",
    "plt.ylabel('Campaign') # SETTING THE Y LABEL\n",
    "plt.xlim(0, 50) # SETTING THE X LIMIT\n",
    "plt.gca().xaxis.set_major_formatter(plt.FuncFormatter('{:.1f}%'.format)) # SETTING THE X AXIS FORMAT\n",
    "\n",
    "# Create a custom legend\n",
    "legend_labels = ['Campaign failed','Campaign achieved major concessions short of full success','Campaign succeeded'] # SETTING THE LEGEND LABELS\n",
    "legend_colors = ['red','grey','black'] # SETTING THE LEGEND COLORS\n",
    "legend_elements = [plt.Rectangle((0, 0), 1, 1, color=color, linewidth=1) for color in legend_colors] # SETTING THE LEGEND ELEMENTS\n",
    "plt.legend(legend_elements, legend_labels, title='', loc='lower right', fontsize=12) # SETTING THE LEGEND PARAMETERS\n",
    "\n",
    "plt.show() # DISPLAYING THE PLOT"
   ]
  },
  {
   "cell_type": "markdown",
   "metadata": {},
   "source": [
    "## And now some information about one of the most well-known Greek Resistance Campaigns"
   ]
  },
  {
   "cell_type": "markdown",
   "metadata": {},
   "source": [
    "The resistance against the military junta in Greece (1967-1974) was a period of intense political and social struggle against the authoritarian regime that had seized power through a coup d'état on April 21, 1967.\n",
    "\n",
    "#### Background:\n",
    "\n",
    "The military junta, also known as the Regime of the Colonels, was led by a group of military officers headed by Colonel George Papadopoulos. The junta suspended civil liberties, dissolved political parties, censored the media, and established a repressive regime that suppressed dissent.\n",
    "\n",
    "<img src='R.jpg' height = 200px>\n",
    "\n",
    "#### Opposition Movements:\n",
    "\n",
    "The resistance to the junta took various forms and involved a wide range of groups and individuals. Opposition was not limited to a single faction but included students, intellectuals, left-wing activists, and even some conservative elements that opposed the military rule.\n",
    "\n",
    "One of the most significant events of the resistance occurred in November 1973 at the Athens Polytechnic University. Students staged a massive protest against the junta, demanding an end to the dictatorship and the restoration of democracy. The junta responded with a brutal crackdown, sending in the military to suppress the uprising. The exact number of casualties remains disputed, but the event marked a turning point and increased opposition to the regime both domestically and internationally.\n",
    "\n",
    "<img src='novmb1704.jpg'>\n",
    "\n",
    "#### End of the Junta (1974):\n",
    "\n",
    "The junta's rule came to an end in July 1974 following the Cyprus conflict. A failed attempt by the junta to overthrow the Archbishop Makarios III, the leader of Cyprus, led to the Turkish invasion of Cyprus. This event weakened the junta's position, and civilian unrest in Greece escalated. On July 23, 1974, the junta collapsed, leading to the restoration of democracy in Greece.\n",
    "\n",
    "#### Legacy:\n",
    "\n",
    "The resistance against the military junta is remembered as a pivotal moment in Greek history. The sacrifices made by those who opposed the dictatorship are commemorated annually, especially the events at the Athens Polytechnic University. The struggle against the junta left a lasting impact on Greek society and contributed to a renewed commitment to democratic values and human rights.\n",
    "\n",
    "The period of the military junta and its subsequent downfall shaped the political landscape of Greece in the years that followed, with a lasting impact on the country's commitment to democracy and political pluralism.\n"
   ]
  },
  {
   "cell_type": "markdown",
   "metadata": {},
   "source": [
    "## 3. The Effect of Participation on the Probability of Campaign Success"
   ]
  },
  {
   "cell_type": "code",
   "execution_count": null,
   "metadata": {},
   "outputs": [],
   "source": [
    "from statsmodels.formula.api import logit\n",
    "\n",
    "scatter_df = df[['SUCCESS', 'PARTICIPATION', 'PERCENTAGE POPULAR PARTICIPATION']].copy()\n",
    "\n",
    "scatter_df['POPULATION'] = scatter_df['PARTICIPATION'] / scatter_df['PERCENTAGE POPULAR PARTICIPATION'] # calculate population\n",
    "\n",
    "scatter_df['LOGPOP'] = np.log(scatter_df['POPULATION']) # log population\n",
    "\n",
    "scatter_df['LOGPART'] = np.log(scatter_df['PARTICIPATION']) # log participation number\n",
    "\n",
    "scatter_df['MEMPC'] = scatter_df['LOGPART'] / scatter_df['LOGPOP'] # log of these two variables\n",
    "\n",
    "#count_success = len(data[data['SUCCESS'] == 1])\n",
    "#count_fail = len(data[data['SUCCESS'] == 0])\n",
    "\n",
    "#perc_fail = count_fail/(count_fail+count_success)\n",
    "#print(\"percentage of fail is\", round(perc_fail*100,2))\n",
    "#perc_success = count_success/(count_fail+count_success)\n",
    "#print(\"percentage of success is\", round(perc_success*100,2))\n",
    "#data['SUCCESS'].value_counts()\n",
    "\n",
    "#sns.countplot(x='SUCCESS',data=data, palette='hls',hue='SUCCESS')\n",
    "\n",
    "# check for missing values\n",
    "\n",
    "#missing_values = data.isnull().sum()\n",
    "#display(missing_values)\n",
    "\n",
    "# dropping the null values\n",
    "\n",
    "scatter_df = scatter_df.dropna(how='any',axis=0)\n",
    "\n",
    "#missing_values = data.isnull().sum()\n",
    "#display(missing_values)\n",
    "\n",
    "scatter_linear_df = scatter_df.copy()\n",
    "#convert mempc to linear scale\n",
    "scatter_linear_df['MEMPC'] = 10**scatter_df['MEMPC']\n",
    "\n",
    "linear_success = logit(\"SUCCESS ~ MEMPC + LOGPOP\", scatter_linear_df).fit()\n",
    "linear_success.summary2()\n",
    "\n",
    "X = scatter_df[['MEMPC', 'LOGPOP']]\n",
    "y_prob = 1 / (1 + np.exp(-linear_success.fittedvalues))  # Using 'result' from the fitted logistic regression model\n",
    "x = X.iloc[:, 0]\n",
    "\n",
    "plt.figure(figsize=[12, 8])\n",
    "plt.scatter(x, y_prob)\n",
    "plt.ylabel('Probability of Success', fontsize=12)\n",
    "plt.xlabel('Participants per Capita', fontsize=12)\n",
    "\n",
    "plt.show()\n",
    "\n"
   ]
  },
  {
   "cell_type": "code",
   "execution_count": null,
   "metadata": {},
   "outputs": [],
   "source": [
    "# Assuming 'linear_clear_data' is the DataFrame after cleaning and transforming variables\n",
    "\n",
    "# Create a new logistic regression model with only MEMPC as a predictor\n",
    "scatter_linear_df2 = scatter_df.copy()\n",
    "scatter_linear_df2['MEMPC'] = scatter_df['MEMPC']  \n",
    "\n",
    "linear_success_mempc = logit(\"SUCCESS ~ MEMPC\", scatter_linear_df2).fit()\n",
    "\n",
    "# Display the summary of the logistic regression model\n",
    "linear_success_mempc.summary2()\n",
    "\n",
    "# Predict the probabilities\n",
    "X_mempc = scatter_linear_df2[['MEMPC']]\n",
    "y_prob_mempc = 1 / (1 + np.exp(-linear_success_mempc.fittedvalues))\n",
    "\n",
    "# Create the new scatter plot\n",
    "plt.figure(figsize=[12, 8])\n",
    "plt.scatter(X_mempc, y_prob_mempc)\n",
    "plt.ylabel('Probability of Success', fontsize=12)\n",
    "plt.xlabel('Participants per Capita, logged', fontsize=12)\n",
    "\n",
    "plt.show()"
   ]
  },
  {
   "cell_type": "markdown",
   "metadata": {},
   "source": []
  },
  {
   "cell_type": "markdown",
   "metadata": {},
   "source": [
    "## 4. The Level of Participation Tipping Point"
   ]
  },
  {
   "cell_type": "code",
   "execution_count": null,
   "metadata": {},
   "outputs": [],
   "source": [
    "import pandas as pd\n",
    "\n",
    "new_df = df[['SUCCESS', 'PARTICIPATION', 'PERCENTAGE POPULAR PARTICIPATION', 'CAMPAIGN']].copy()\n",
    "\n",
    "# Assuming df is your DataFrame\n",
    "# You may need to adjust the column names based on your actual data\n",
    "new_df['PERCENTAGE POPULAR PARTICIPATION'] = pd.to_numeric(new_df['PERCENTAGE POPULAR PARTICIPATION'], errors='coerce')\n",
    "new_df['PERCENTAGE POPULAR PARTICIPATION'] = new_df['PERCENTAGE POPULAR PARTICIPATION'] * 100.0\n",
    "\n",
    "# Define the bins for categorization\n",
    "bins = [0.0001, 0.0035, 0.015, 0.06, 0.25, 1.0, 3.5, float('inf')]\n",
    "labels = ['less than 0.0035%', '0.0035% - 0.015%', '0.015% - 0.06%', '0.06% - 0.25%', '0.25% - 1.0%', '1.0% - 3.5%', 'greater than 3.5%']\n",
    "\n",
    "# Categorize the data based on the specified bins\n",
    "new_df['Peak Popular Participation (%)'] = pd.cut(new_df['PERCENTAGE POPULAR PARTICIPATION'], bins=bins, labels=labels, right=False)\n",
    "\n",
    "# Group by the Participation Category and calculate the observations and success rate\n",
    "result = new_df.groupby('Peak Popular Participation (%)').agg({'SUCCESS': 'sum', 'CAMPAIGN': 'count'}).reset_index()\n",
    "\n",
    "# Handle zero counts to prevent division by zero\n",
    "result['Success Rate'] = result.apply(lambda row: (row['SUCCESS'] / row['CAMPAIGN']) * 100 if row['CAMPAIGN'] != 0 else 0, axis=1)\n",
    "\n",
    "# Rename columns and format the output\n",
    "result = result.rename(columns={'CAMPAIGN': 'Observations'})\n",
    "result = result[['Peak Popular Participation (%)', 'Observations', 'Success Rate']]\n",
    "result['Success Rate'] = result['Success Rate'].round(2).astype(str) + '%'\n",
    "\n",
    "result = result.sort_values(by='Peak Popular Participation (%)', ascending=False).reset_index(drop=True)\n",
    "\n",
    "# Display the result\n",
    "display(result)"
   ]
  },
  {
   "cell_type": "code",
   "execution_count": null,
   "metadata": {},
   "outputs": [],
   "source": [
    "import matplotlib.pyplot as plt\n",
    "import seaborn as sns\n",
    "import pandas as pd\n",
    "import numpy as np\n",
    "from statsmodels.formula.api import logit\n",
    "\n",
    "# Assuming you have already defined scatter_df and logit function\n",
    "\n",
    "scatter_linear_df2 = scatter_df.copy()\n",
    "scatter_linear_df2['MEMPC'] = scatter_df['MEMPC']\n",
    "\n",
    "linear_success_mempc = logit(\"SUCCESS ~ MEMPC\", scatter_linear_df2).fit()\n",
    "\n",
    "# Predict the probabilities\n",
    "X = scatter_linear_df2[['MEMPC']]\n",
    "y_prob = 1 / (1 + np.exp(-linear_success_mempc.fittedvalues))\n",
    "\n",
    "# Combine X, y_prob into a DataFrame for sorting\n",
    "sorted_data = pd.DataFrame({'X': X['MEMPC'], 'y_prob': y_prob})\n",
    "sorted_data = sorted_data.sort_values(by='X')\n",
    "\n",
    "plt.figure(figsize=[12, 8])\n",
    "\n",
    "# Use sns.lineplot to plot the line\n",
    "sns.lineplot(x=sorted_data['X'], y=sorted_data['y_prob'], label='Line of Probability',linewidth=3)\n",
    "\n",
    "# Add a shaded confidence interval\n",
    "ci = 0.1 # Assuming a constant confidence interval for example\n",
    "plt.fill_between(sorted_data['X'], (sorted_data['y_prob'] - ci), (sorted_data['y_prob'] + ci), color='b', alpha=.1)\n",
    "\n",
    "plt.ylabel('Probability of success', fontsize=18)\n",
    "plt.xlabel('Participants per capita, logged', fontsize=18)\n",
    "plt.axhline(y=0.99, color='red', linestyle='--', label='Threshold')\n",
    "\n",
    "plt.legend()\n",
    "plt.show()\n",
    "\n"
   ]
  },
  {
   "cell_type": "markdown",
   "metadata": {},
   "source": []
  },
  {
   "cell_type": "markdown",
   "metadata": {},
   "source": [
    "## 5. Nonviolent Resistance and Target Regime Type"
   ]
  },
  {
   "cell_type": "code",
   "execution_count": null,
   "metadata": {},
   "outputs": [],
   "source": [
    "import pandas as pd\n",
    "\n",
    "p5_df = pd.read_excel('p5v2018.xls')\n",
    "\n",
    "# Convert 'EndYear' to integer for matching\n",
    "df['EYEAR'] = df['EYEAR']\n",
    "p5_df['year'] = p5_df['year']\n",
    "\n",
    "# Merge based on 'EndYear' and 'Country'\n",
    "merged_df = pd.merge(df, p5_df, how='inner', left_on=['EYEAR', 'LOCATION'], right_on=['year', 'country'])\n",
    "\n",
    "# Drop the duplicate 'Year' column if needed\n",
    "merged_df = merged_df.drop(columns=['year'])\n",
    "\n",
    "merged_df['POPULATION'] = merged_df['PARTICIPATION'] / merged_df['PERCENTAGE POPULAR PARTICIPATION'] # calculate population\n",
    "\n",
    "merged_df['LOGPOP'] = np.log(merged_df['POPULATION']) # log population\n",
    "\n",
    "merged_df['LOGPART'] = np.log(merged_df['PARTICIPATION']) # log participation number\n",
    "\n",
    "filtered_df = merged_df[['SUCCESS','NONVIOL','polity','LOGPART','LOGPOP']]\n",
    "\n",
    "#percent_missing = filtered_df.isnull().sum() * 100 / len(filtered_df)\n",
    "#percent_missing\n",
    "\n",
    "filtered_df = filtered_df.dropna(how='any',axis=0)\n",
    "\n",
    "#percent_missing = filtered_df.isnull().sum() * 100 / len(filtered_df)\n",
    "#percent_missing\n",
    "\n",
    "log_df = logit(\"SUCCESS ~ NONVIOL + polity + LOGPART + LOGPOP\",filtered_df).fit()\n",
    "log_df.summary2()\n",
    "\n"
   ]
  },
  {
   "cell_type": "markdown",
   "metadata": {},
   "source": []
  }
 ],
 "metadata": {
  "kernelspec": {
   "display_name": "Python 3",
   "language": "python",
   "name": "python3"
  },
  "language_info": {
   "codemirror_mode": {
    "name": "ipython",
    "version": 3
   },
   "file_extension": ".py",
   "mimetype": "text/x-python",
   "name": "python",
   "nbconvert_exporter": "python",
   "pygments_lexer": "ipython3",
   "version": "3.12.0"
  }
 },
 "nbformat": 4,
 "nbformat_minor": 2
}
