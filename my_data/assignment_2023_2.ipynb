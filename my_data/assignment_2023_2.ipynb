{
 "cells": [
  {
   "cell_type": "markdown",
   "metadata": {},
   "source": [
    "## Downloading the Libraries that are required: "
   ]
  },
  {
   "cell_type": "markdown",
   "metadata": {},
   "source": [
    "We have already installed all the packages that we need to use in this assignment for the previous one except of seaborn. We install it by running the command `pip install seaborn` in cmd"
   ]
  },
  {
   "cell_type": "markdown",
   "metadata": {},
   "source": [
    "## We import the libraries needed for the assignment"
   ]
  },
  {
   "cell_type": "code",
   "execution_count": 41,
   "metadata": {},
   "outputs": [],
   "source": [
    "import pandas as pd\n",
    "import numpy as np\n",
    "import matplotlib.pyplot as plt\n",
    "import seaborn as sns\n",
    "from statsmodels.formula.api import logit\n",
    "\n",
    "# pip install xlrd"
   ]
  },
  {
   "cell_type": "markdown",
   "metadata": {},
   "source": [
    "## 1. Exploration of Historical Trends"
   ]
  },
  {
   "cell_type": "markdown",
   "metadata": {},
   "source": [
    "The first thing we have to do is read the source.xlsx file and save the dataframe using pandas."
   ]
  },
  {
   "cell_type": "code",
   "execution_count": 42,
   "metadata": {},
   "outputs": [
    {
     "data": {
      "text/html": [
       "<div>\n",
       "<style scoped>\n",
       "    .dataframe tbody tr th:only-of-type {\n",
       "        vertical-align: middle;\n",
       "    }\n",
       "\n",
       "    .dataframe tbody tr th {\n",
       "        vertical-align: top;\n",
       "    }\n",
       "\n",
       "    .dataframe thead th {\n",
       "        text-align: right;\n",
       "    }\n",
       "</style>\n",
       "<table border=\"1\" class=\"dataframe\">\n",
       "  <thead>\n",
       "    <tr style=\"text-align: right;\">\n",
       "      <th></th>\n",
       "      <th>NAVCO ID</th>\n",
       "      <th>CAMPAIGN</th>\n",
       "      <th>LOCATION</th>\n",
       "      <th>BYEAR</th>\n",
       "      <th>EYEAR</th>\n",
       "      <th>TARGET</th>\n",
       "      <th>SUCCESS</th>\n",
       "      <th>LIMITED</th>\n",
       "      <th>FAILURE</th>\n",
       "      <th>ONGOING</th>\n",
       "      <th>...</th>\n",
       "      <th>OTHER</th>\n",
       "      <th>DURATION</th>\n",
       "      <th>PARTICIPATION</th>\n",
       "      <th>PERCENTAGE POPULAR PARTICIPATION</th>\n",
       "      <th>REGVIOL</th>\n",
       "      <th>DEFECT</th>\n",
       "      <th>VIOLENT FLANK</th>\n",
       "      <th>VIOLSIM</th>\n",
       "      <th>REGAID</th>\n",
       "      <th>STATESUP</th>\n",
       "    </tr>\n",
       "  </thead>\n",
       "  <tbody>\n",
       "    <tr>\n",
       "      <th>0</th>\n",
       "      <td>205</td>\n",
       "      <td>Slovenian independence</td>\n",
       "      <td>Slovenia</td>\n",
       "      <td>1990</td>\n",
       "      <td>1991</td>\n",
       "      <td>Yugoslavian rule</td>\n",
       "      <td>1</td>\n",
       "      <td>0</td>\n",
       "      <td>0</td>\n",
       "      <td>0</td>\n",
       "      <td>...</td>\n",
       "      <td>0</td>\n",
       "      <td>275</td>\n",
       "      <td>900000.0</td>\n",
       "      <td>0.450129</td>\n",
       "      <td>1</td>\n",
       "      <td>1</td>\n",
       "      <td>1.0</td>\n",
       "      <td>0.0</td>\n",
       "      <td>1</td>\n",
       "      <td>0</td>\n",
       "    </tr>\n",
       "    <tr>\n",
       "      <th>1</th>\n",
       "      <td>33</td>\n",
       "      <td>pro-democracy movement</td>\n",
       "      <td>Argentina</td>\n",
       "      <td>1977</td>\n",
       "      <td>1983</td>\n",
       "      <td>military junta</td>\n",
       "      <td>1</td>\n",
       "      <td>0</td>\n",
       "      <td>0</td>\n",
       "      <td>0</td>\n",
       "      <td>...</td>\n",
       "      <td>0</td>\n",
       "      <td>2415</td>\n",
       "      <td>9000000.0</td>\n",
       "      <td>0.302013</td>\n",
       "      <td>1</td>\n",
       "      <td>0</td>\n",
       "      <td>1.0</td>\n",
       "      <td>0.0</td>\n",
       "      <td>1</td>\n",
       "      <td>0</td>\n",
       "    </tr>\n",
       "    <tr>\n",
       "      <th>2</th>\n",
       "      <td>249</td>\n",
       "      <td>Zambian independence movement</td>\n",
       "      <td>Zambia</td>\n",
       "      <td>1961</td>\n",
       "      <td>1963</td>\n",
       "      <td>British rule</td>\n",
       "      <td>1</td>\n",
       "      <td>0</td>\n",
       "      <td>0</td>\n",
       "      <td>0</td>\n",
       "      <td>...</td>\n",
       "      <td>0</td>\n",
       "      <td>913</td>\n",
       "      <td>1000000.0</td>\n",
       "      <td>0.285063</td>\n",
       "      <td>0</td>\n",
       "      <td>1</td>\n",
       "      <td>0.0</td>\n",
       "      <td>0.0</td>\n",
       "      <td>0</td>\n",
       "      <td>0</td>\n",
       "    </tr>\n",
       "    <tr>\n",
       "      <th>3</th>\n",
       "      <td>53</td>\n",
       "      <td>Cedar Revolution</td>\n",
       "      <td>Lebanon</td>\n",
       "      <td>2005</td>\n",
       "      <td>2005</td>\n",
       "      <td>Syrian forces</td>\n",
       "      <td>1</td>\n",
       "      <td>0</td>\n",
       "      <td>0</td>\n",
       "      <td>0</td>\n",
       "      <td>...</td>\n",
       "      <td>0</td>\n",
       "      <td>70</td>\n",
       "      <td>1000000.0</td>\n",
       "      <td>0.250824</td>\n",
       "      <td>1</td>\n",
       "      <td>0</td>\n",
       "      <td>0.0</td>\n",
       "      <td>1.0</td>\n",
       "      <td>1</td>\n",
       "      <td>0</td>\n",
       "    </tr>\n",
       "    <tr>\n",
       "      <th>4</th>\n",
       "      <td>321</td>\n",
       "      <td>Lebanon Political Crisis</td>\n",
       "      <td>Lebanon</td>\n",
       "      <td>2006</td>\n",
       "      <td>2008</td>\n",
       "      <td>Government of Prime Minister Fouad Siniora</td>\n",
       "      <td>1</td>\n",
       "      <td>0</td>\n",
       "      <td>0</td>\n",
       "      <td>0</td>\n",
       "      <td>...</td>\n",
       "      <td>0</td>\n",
       "      <td>545</td>\n",
       "      <td>800000.0</td>\n",
       "      <td>0.194598</td>\n",
       "      <td>1</td>\n",
       "      <td>1</td>\n",
       "      <td>1.0</td>\n",
       "      <td>0.0</td>\n",
       "      <td>1</td>\n",
       "      <td>1</td>\n",
       "    </tr>\n",
       "  </tbody>\n",
       "</table>\n",
       "<p>5 rows × 25 columns</p>\n",
       "</div>"
      ],
      "text/plain": [
       "   NAVCO ID                       CAMPAIGN   LOCATION  BYEAR  EYEAR  \\\n",
       "0       205         Slovenian independence   Slovenia   1990   1991   \n",
       "1        33         pro-democracy movement  Argentina   1977   1983   \n",
       "2       249  Zambian independence movement     Zambia   1961   1963   \n",
       "3        53               Cedar Revolution    Lebanon   2005   2005   \n",
       "4       321       Lebanon Political Crisis    Lebanon   2006   2008   \n",
       "\n",
       "                                       TARGET  SUCCESS  LIMITED  FAILURE  \\\n",
       "0                            Yugoslavian rule        1        0        0   \n",
       "1                              military junta        1        0        0   \n",
       "2                                British rule        1        0        0   \n",
       "3                               Syrian forces        1        0        0   \n",
       "4  Government of Prime Minister Fouad Siniora        1        0        0   \n",
       "\n",
       "   ONGOING  ...  OTHER  DURATION  PARTICIPATION  \\\n",
       "0        0  ...      0       275       900000.0   \n",
       "1        0  ...      0      2415      9000000.0   \n",
       "2        0  ...      0       913      1000000.0   \n",
       "3        0  ...      0        70      1000000.0   \n",
       "4        0  ...      0       545       800000.0   \n",
       "\n",
       "   PERCENTAGE POPULAR PARTICIPATION  REGVIOL  DEFECT  VIOLENT FLANK  VIOLSIM  \\\n",
       "0                          0.450129        1       1            1.0      0.0   \n",
       "1                          0.302013        1       0            1.0      0.0   \n",
       "2                          0.285063        0       1            0.0      0.0   \n",
       "3                          0.250824        1       0            0.0      1.0   \n",
       "4                          0.194598        1       1            1.0      0.0   \n",
       "\n",
       "   REGAID  STATESUP  \n",
       "0       1         0  \n",
       "1       1         0  \n",
       "2       0         0  \n",
       "3       1         0  \n",
       "4       1         1  \n",
       "\n",
       "[5 rows x 25 columns]"
      ]
     },
     "metadata": {},
     "output_type": "display_data"
    }
   ],
   "source": [
    "df = pd.read_excel('source.xlsx') # read excel file\n",
    "display(df.head())"
   ]
  },
  {
   "cell_type": "markdown",
   "metadata": {},
   "source": [
    "Now, since we need to calculate the non violent and violent occurencies per decade, we will have to create a new column, decade, which is going to be calculated by the end-year. After doing that, we will also group by the data by decade, save that and keep only the columns neccecary to new dataframe, for simplicity reasons."
   ]
  },
  {
   "cell_type": "code",
   "execution_count": 43,
   "metadata": {},
   "outputs": [],
   "source": [
    "df['DECADE'] = (df['EYEAR'] // 10) * 10\n",
    "\n",
    "df_grouped = df.groupby(['DECADE', 'VIOL']).size().unstack(fill_value=0).reset_index()\n",
    "df_grouped.columns = ['DECADE','NON VIOLENT','VIOLENT']\n"
   ]
  },
  {
   "cell_type": "markdown",
   "metadata": {},
   "source": [
    "Now the last thing we need to do is save the columns we need to variables (optional, but doing it for better readability) and with these variables we create the stackplot. For this plot, we use the `sns.set(style=\"whitegrid\")` just so we can have the white lines in the plot and match exactly the example given to us. Also, we add the legend to the upper left and we set the xlim for the exact same reason (matching the example)"
   ]
  },
  {
   "cell_type": "code",
   "execution_count": 44,
   "metadata": {},
   "outputs": [
    {
     "data": {
      "image/png": "[encoded data removed]",
      "text/plain": [
       "<Figure size 640x480 with 1 Axes>"
      ]
     },
     "metadata": {},
     "output_type": "display_data"
    }
   ],
   "source": [
    "\n",
    "# Creating a stack plot\n",
    "\n",
    "decades = df_grouped['DECADE']\n",
    "nonviolent = df_grouped['NON VIOLENT']\n",
    "violent = df_grouped['VIOLENT']\n",
    "\n",
    "sns.set(style=\"whitegrid\")\n",
    "plt.stackplot(decades, violent, nonviolent, labels=['Violent', 'Nonviolent'])\n",
    "plt.grid(True)\n",
    "# Adding labels and title\n",
    "plt.xlabel('decade')\n",
    "plt.ylabel('campaigns')\n",
    "plt.legend(loc='upper left')\n",
    "\n",
    "plt.xlim(min(decades), max(decades))\n",
    "\n",
    "# Display the plot\n",
    "plt.show()"
   ]
  },
  {
   "cell_type": "markdown",
   "metadata": {},
   "source": [
    "Now for the second plot since we want to calculate the percentage of success of non violent campaigns per decade and their number, the first thing we need to do is separate the data accordingly."
   ]
  },
  {
   "cell_type": "markdown",
   "metadata": {},
   "source": [
    "First of all, we want to get the campaigns that were successful and non violent per decade, we do that below by getting these campaigns and we are grouping them by their decade so we can get the amount and save it to a new dataframe called `success_by_decade`."
   ]
  },
  {
   "cell_type": "code",
   "execution_count": 45,
   "metadata": {},
   "outputs": [],
   "source": [
    "success_by_decade = df[(df['SUCCESS'] == 1) & (df['VIOL'] == 0)]\n",
    "success_by_decade = success_by_decade.groupby('DECADE').size().reset_index(name='success_count')"
   ]
  },
  {
   "cell_type": "markdown",
   "metadata": {},
   "source": [
    "After that, we get all the non violent campaigns and calculate the amount per decade so we can use them later to calculate the percentages. We save this dataframe as `total_by_decade`"
   ]
  },
  {
   "cell_type": "code",
   "execution_count": 46,
   "metadata": {},
   "outputs": [],
   "source": [
    "total_by_decade = df[(df['VIOL'] == 0)]\n",
    "total_by_decade = total_by_decade.groupby('DECADE').size().reset_index(name='total_count')"
   ]
  },
  {
   "cell_type": "markdown",
   "metadata": {},
   "source": [
    "Now all we need to do is merge these 2 dataframes we just created into the new merged dataframe.After doing that, all we have to do is get the percentages by diving the amount of successful non violent campaigns with the total amount of non violent campaigns. "
   ]
  },
  {
   "cell_type": "code",
   "execution_count": 47,
   "metadata": {},
   "outputs": [],
   "source": [
    "merged_df = pd.merge(total_by_decade, success_by_decade, on='DECADE', how='left').fillna(0)\n",
    "merged_df['success_percentage'] = (merged_df['success_count'] / merged_df['total_count'])"
   ]
  },
  {
   "cell_type": "markdown",
   "metadata": {},
   "source": [
    "And now we just create the plot."
   ]
  },
  {
   "cell_type": "code",
   "execution_count": 48,
   "metadata": {},
   "outputs": [
    {
     "data": {
      "image/png": "[encoded data removed]",
      "text/plain": [
       "<Figure size 1200x600 with 2 Axes>"
      ]
     },
     "metadata": {},
     "output_type": "display_data"
    }
   ],
   "source": [
    "\n",
    "width = 2.5  # the width of the bars\n",
    "x = merged_df['DECADE'] # SETTING THE X AXIS AS THE DECADES\n",
    "y1 = merged_df['total_count'] # SETTING THE Y1 AXIS AS THE TOTAL COUNT\n",
    "y2 = merged_df['success_percentage'] # SETTING THE Y2 AXIS AS THE SUCCESS PERCENTAGE\n",
    "\n",
    "fig = plt.figure(figsize=[12,6]) # SETTING THE FIGURE SIZE\n",
    "ax1 = fig.add_subplot(111) # SETTING THE SUBPLOT\n",
    "ax2 = ax1.twinx()  # instantiate a second axes that shares the same x-axis\n",
    "\n",
    "ax1.bar(x - width/2, y1, width, color='b', label='number of nonviolent campaigns') # PLOTTING THE BAR CHART 1\n",
    "ax1.grid(False) # REMOVING THE GRID\n",
    "ax1.set_ylabel('campaigns') # SETTING THE Y1 LABEL\n",
    "ax2.set_ylabel('percentage') # SETTING THE Y2 LABEL\n",
    "ax2.bar(x + width/2, y2, width, color='orange', label='percentage success') # PLOTTING THE BAR CHART 2\n",
    "ax2.grid(False) # REMOVING THE GRID\n",
    "\n",
    "fig.legend(bbox_to_anchor=(0.12, 0.88), loc='upper left', fontsize=12) # SETTING THE LEGEND\n",
    "\n",
    "plt.show()"
   ]
  },
  {
   "cell_type": "markdown",
   "metadata": {},
   "source": [
    "For the first part of the 3rd plot we do exactly as above but despite of the non violent, this time we are doing it for the violent campaigns."
   ]
  },
  {
   "cell_type": "code",
   "execution_count": 49,
   "metadata": {},
   "outputs": [],
   "source": [
    "success_by_decade2 = df[(df['SUCCESS'] == 1) & (df['VIOL'] == 1)]\n",
    "success_by_decade2 = success_by_decade2.groupby('DECADE').size().reset_index(name='success_count')\n",
    "\n",
    "total_by_decade2 = df[(df['VIOL'] == 1)]\n",
    "total_by_decade2 = total_by_decade2.groupby('DECADE').size().reset_index(name='total_count')\n",
    "\n",
    "merged_df2 = pd.merge(total_by_decade2, success_by_decade2, on='DECADE', how='left').fillna(0)\n",
    "merged_df2['success_percentage'] = (merged_df2['success_count'] / merged_df2['total_count'])"
   ]
  },
  {
   "cell_type": "markdown",
   "metadata": {},
   "source": [
    "Now we only need to plot the bar by setting the y1 and y2 axis as the percentages of the non violent and violent campaigns and the x axis the decades."
   ]
  },
  {
   "cell_type": "code",
   "execution_count": 50,
   "metadata": {},
   "outputs": [
    {
     "data": {
      "image/png": "[encoded data removed]",
      "text/plain": [
       "<Figure size 1500x800 with 1 Axes>"
      ]
     },
     "metadata": {},
     "output_type": "display_data"
    }
   ],
   "source": [
    "width = 2.5  # the width of the bars\n",
    "fig = plt.figure(figsize=[15,8]) # SETTING THE FIGURE SIZE\n",
    "x = merged_df2['DECADE'] # SETTING THE X AXIS AS THE DECADES\n",
    "y1 = merged_df2['success_percentage'] # SETTING THE Y1 AXIS AS THE SUCCESS PERCENTAGE OF VIOLENT CAMPAIGNS\n",
    "y2 = merged_df['success_percentage'] # SETTING THE Y2 AXIS AS THE SUCCESS PERCENTAGE OF NONVIOLENT CAMPAIGNS\n",
    "ax = fig.add_subplot(111) # SETTING THE SUBPLOT\n",
    "b2 = ax.bar(x + width/2, y1, width, color='orangered') # PLOTTING THE BAR CHART 1\n",
    "b1 = ax.bar(x - width/2, y2, width, color='b') # PLOTTING THE BAR CHART 2\n",
    "plt.xlabel('decade') # SETTING THE X LABEL\n",
    "plt.ylabel('success rate') # SETTING THE Y LABEL\n",
    "ax.legend((b1[0], b2[0]), ('nonviolent', 'violent'), fontsize=12) # SETTING THE LEGEND\n",
    "\n",
    "plt.show()"
   ]
  },
  {
   "cell_type": "markdown",
   "metadata": {},
   "source": [
    "## 2. Largest Resistance Campaigns, 1946-2014"
   ]
  },
  {
   "cell_type": "markdown",
   "metadata": {},
   "source": [
    "First of all we need to filter the campagins whee the population is at least 2%, we do that and save it to a new dataframe called `filtered_df`"
   ]
  },
  {
   "cell_type": "code",
   "execution_count": 51,
   "metadata": {},
   "outputs": [],
   "source": [
    "# Filter campaigns with participation percentage at least 2.0%\n",
    "filtered_df = df[df['PERCENTAGE POPULAR PARTICIPATION'] >= 0.02]"
   ]
  },
  {
   "cell_type": "markdown",
   "metadata": {},
   "source": [
    "Now all we need to do before creating the plot is sorting the dataframe by the percentage of participation in descending order and multiplying the percentage column with 100 so we can get it to the right format to match the example numbers in the plot given."
   ]
  },
  {
   "cell_type": "code",
   "execution_count": 52,
   "metadata": {},
   "outputs": [],
   "source": [
    "# Sort the DataFrame by participation percentage in descending order\n",
    "sorted_df = filtered_df.sort_values(by='PERCENTAGE POPULAR PARTICIPATION', ascending=False)\n",
    "sorted_df['PERCENTAGE POPULAR PARTICIPATION'] = sorted_df['PERCENTAGE POPULAR PARTICIPATION'] * 100.0"
   ]
  },
  {
   "cell_type": "markdown",
   "metadata": {},
   "source": [
    "Now all we need to do is create the plot.\n",
    "\n",
    " * We create the barplot by setting our x axis to the percentage and the y axis to the location and target as one string (to match the example) and set its color as black. (stock color of bar)\n",
    " \n",
    " * In the for loop we set the text for the numbers showing in each bar.We also set the color of each bar based of if they were limited, successful or unsuccessful.\n",
    "\n",
    " * Then we just set the labels, use the gca so we can manipulate the percentages in the x-axis. (0.0%, 10.0%, etc.)\n",
    "\n",
    " * and finally, we create a custom legend for the plot.\n"
   ]
  },
  {
   "cell_type": "code",
   "execution_count": 53,
   "metadata": {},
   "outputs": [
    {
     "data": {
      "image/png": "[encoded data removed]",
      "text/plain": [
       "<Figure size 1200x1000 with 1 Axes>"
      ]
     },
     "metadata": {},
     "output_type": "display_data"
    }
   ],
   "source": [
    "plt.figure(figsize=(12, 10)) # SETTING THE FIGURE SIZE\n",
    "\n",
    "ax = sns.barplot(x=sorted_df['PERCENTAGE POPULAR PARTICIPATION'], y=sorted_df['LOCATION']+': '+sorted_df['TARGET'], data=sorted_df, color='black') # PLOTTING THE BAR CHART\n",
    "\n",
    "for bar, values,success,limited in zip(ax.patches, sorted_df['PERCENTAGE POPULAR PARTICIPATION'],sorted_df['SUCCESS'],sorted_df['LIMITED']): # SETTING THE TEXT ON THE BAR CHART AND COLORING THE BARS\n",
    "    text_x = bar.get_width() # SETTING THE TEXT X AXIS\n",
    "    text_y = bar.get_y() + bar.get_height() / 2 # SETTING THE TEXT Y AXIS\n",
    "    text = '{:.2f}'.format(values) # SETTING THE TEXT\n",
    "    ax.text(text_x, text_y, text, ha='right', va='center', fontsize=10,color='white') # SETTING THE TEXT PARAMETERS\n",
    "    if  limited == 1: \n",
    "        bar.set_color('grey') # SETTING THE COLOR OF THE BAR IF THE CAMPAIGN ACHIEVED MAJOR CONCESSIONS SHORT OF FULL SUCCESS\n",
    "    elif success == 0:\n",
    "        bar.set_color('red') # SETTING THE COLOR OF THE BAR IF THE CAMPAIGN FAILED\n",
    "    else:\n",
    "        bar.set_color('black')  # SETTING THE COLOR OF THE BAR IF THE CAMPAIGN SUCCEEDED\n",
    "\n",
    "plt.xlabel('Percent population participating in peak event') # SETTING THE X LABEL\n",
    "plt.ylabel('Campaign') # SETTING THE Y LABEL\n",
    "plt.xlim(0, 50) # SETTING THE X LIMIT\n",
    "plt.gca().xaxis.set_major_formatter(plt.FuncFormatter('{:.1f}%'.format)) # SETTING THE X AXIS FORMAT\n",
    "\n",
    "# Create a custom legend\n",
    "legend_labels = ['Campaign failed','Campaign achieved major concessions short of full success','Campaign succeeded'] # SETTING THE LEGEND LABELS\n",
    "legend_colors = ['red','grey','black'] # SETTING THE LEGEND COLORS\n",
    "legend_elements = [plt.Rectangle((0, 0), 1, 1, color=color, linewidth=1) for color in legend_colors] # SETTING THE LEGEND ELEMENTS\n",
    "plt.legend(legend_elements, legend_labels, title='', loc='lower right', fontsize=12) # SETTING THE LEGEND PARAMETERS\n",
    "\n",
    "plt.show() # DISPLAYING THE PLOT"
   ]
  },
  {
   "cell_type": "markdown",
   "metadata": {},
   "source": [
    "## And now some information about one of the most well-known Greek Resistance Campaigns"
   ]
  },
  {
   "cell_type": "markdown",
   "metadata": {},
   "source": [
    "The resistance against the military junta in Greece (1967-1974) was a period of intense political and social struggle against the authoritarian regime that had seized power through a coup d'état on April 21, 1967.\n",
    "\n",
    "#### Background:\n",
    "\n",
    "The military junta, also known as the Regime of the Colonels, was led by a group of military officers headed by Colonel George Papadopoulos. The junta suspended civil liberties, dissolved political parties, censored the media, and established a repressive regime that suppressed dissent.\n",
    "\n",
    "<img src='R.jpg' height = 200px>\n",
    "\n",
    "#### Opposition Movements:\n",
    "\n",
    "The resistance to the junta took various forms and involved a wide range of groups and individuals. Opposition was not limited to a single faction but included students, intellectuals, left-wing activists, and even some conservative elements that opposed the military rule.\n",
    "\n",
    "One of the most significant events of the resistance occurred in November 1973 at the Athens Polytechnic University. Students staged a massive protest against the junta, demanding an end to the dictatorship and the restoration of democracy. The junta responded with a brutal crackdown, sending in the military to suppress the uprising. The exact number of casualties remains disputed, but the event marked a turning point and increased opposition to the regime both domestically and internationally.\n",
    "\n",
    "<img src='novmb1704.jpg'>\n",
    "\n",
    "#### End of the Junta (1974):\n",
    "\n",
    "The junta's rule came to an end in July 1974 following the Cyprus conflict. A failed attempt by the junta to overthrow the Archbishop Makarios III, the leader of Cyprus, led to the Turkish invasion of Cyprus. This event weakened the junta's position, and civilian unrest in Greece escalated. On July 23, 1974, the junta collapsed, leading to the restoration of democracy in Greece.\n",
    "\n",
    "#### Legacy:\n",
    "\n",
    "The resistance against the military junta is remembered as a pivotal moment in Greek history. The sacrifices made by those who opposed the dictatorship are commemorated annually, especially the events at the Athens Polytechnic University. The struggle against the junta left a lasting impact on Greek society and contributed to a renewed commitment to democratic values and human rights.\n",
    "\n",
    "The period of the military junta and its subsequent downfall shaped the political landscape of Greece in the years that followed, with a lasting impact on the country's commitment to democracy and political pluralism.\n"
   ]
  },
  {
   "cell_type": "markdown",
   "metadata": {},
   "source": [
    "## 3. The Effect of Participation on the Probability of Campaign Success"
   ]
  },
  {
   "cell_type": "markdown",
   "metadata": {},
   "source": [
    "First of all what we have to do is get the columns that we will e=need for this plot from the initial dataframe and copy them to a new one so we will be able to manipulate it without altering the original one while only having the columns we need. (for simplicity and better readability)"
   ]
  },
  {
   "cell_type": "code",
   "execution_count": 54,
   "metadata": {},
   "outputs": [],
   "source": [
    "scatter_df = df[['SUCCESS', 'PARTICIPATION', 'PERCENTAGE POPULAR PARTICIPATION']].copy()"
   ]
  },
  {
   "cell_type": "markdown",
   "metadata": {},
   "source": [
    "Now given the columns we have we will need to calculate the population and the logs that we need. "
   ]
  },
  {
   "cell_type": "code",
   "execution_count": 55,
   "metadata": {},
   "outputs": [],
   "source": [
    "scatter_df['POPULATION'] = scatter_df['PARTICIPATION'] / scatter_df['PERCENTAGE POPULAR PARTICIPATION'] # calculate population\n",
    "\n",
    "scatter_df['LOGPOP'] = np.log(scatter_df['POPULATION']) # log population\n",
    "\n",
    "scatter_df['LOGPART'] = np.log(scatter_df['PARTICIPATION']) # log participation number\n",
    "\n",
    "scatter_df['MEMPC'] = scatter_df['LOGPART'] / scatter_df['LOGPOP'] # log of these two variables"
   ]
  },
  {
   "cell_type": "markdown",
   "metadata": {},
   "source": [
    "Now that we have prepared our dataframe there's one last thing to check, for NaN. (missing values)"
   ]
  },
  {
   "cell_type": "code",
   "execution_count": 56,
   "metadata": {},
   "outputs": [
    {
     "data": {
      "text/plain": [
       "SUCCESS                             0\n",
       "PARTICIPATION                       9\n",
       "PERCENTAGE POPULAR PARTICIPATION    0\n",
       "POPULATION                          9\n",
       "LOGPOP                              9\n",
       "LOGPART                             9\n",
       "MEMPC                               9\n",
       "dtype: int64"
      ]
     },
     "metadata": {},
     "output_type": "display_data"
    }
   ],
   "source": [
    "missing_values = scatter_df.isnull().sum()\n",
    "display(missing_values)"
   ]
  },
  {
   "cell_type": "markdown",
   "metadata": {},
   "source": [
    "Since we have missing values we will have to use `dropna()` to drop them."
   ]
  },
  {
   "cell_type": "code",
   "execution_count": 57,
   "metadata": {},
   "outputs": [
    {
     "data": {
      "text/plain": [
       "SUCCESS                             0\n",
       "PARTICIPATION                       0\n",
       "PERCENTAGE POPULAR PARTICIPATION    0\n",
       "POPULATION                          0\n",
       "LOGPOP                              0\n",
       "LOGPART                             0\n",
       "MEMPC                               0\n",
       "dtype: int64"
      ]
     },
     "metadata": {},
     "output_type": "display_data"
    }
   ],
   "source": [
    "scatter_df = scatter_df.dropna(how='any',axis=0)\n",
    "\n",
    "missing_values = scatter_df.isnull().sum()\n",
    "display(missing_values)"
   ]
  },
  {
   "cell_type": "markdown",
   "metadata": {},
   "source": [
    "Now we will make a copy of the dataframe we just created, so we won't have to redo all that stuff again from 0 for the next plot."
   ]
  },
  {
   "cell_type": "code",
   "execution_count": 58,
   "metadata": {},
   "outputs": [],
   "source": [
    "scatter_linear_df = scatter_df.copy()"
   ]
  },
  {
   "cell_type": "markdown",
   "metadata": {},
   "source": [
    "And now we will do the binary logistic regression with the use of logit"
   ]
  },
  {
   "cell_type": "code",
   "execution_count": 59,
   "metadata": {},
   "outputs": [
    {
     "name": "stdout",
     "output_type": "stream",
     "text": [
      "Optimization terminated successfully.\n",
      "         Current function value: 0.580756\n",
      "         Iterations 6\n"
     ]
    },
    {
     "data": {
      "text/html": [
       "<table class=\"simpletable\">\n",
       "<tr>\n",
       "        <td>Model:</td>              <td>Logit</td>           <td>Method:</td>          <td>MLE</td>   \n",
       "</tr>\n",
       "<tr>\n",
       "  <td>Dependent Variable:</td>      <td>SUCCESS</td>     <td>Pseudo R-squared:</td>    <td>0.130</td>  \n",
       "</tr>\n",
       "<tr>\n",
       "         <td>Date:</td>        <td>2023-12-04 17:21</td>       <td>AIC:</td>         <td>447.3747</td> \n",
       "</tr>\n",
       "<tr>\n",
       "   <td>No. Observations:</td>         <td>380</td>             <td>BIC:</td>         <td>459.1952</td> \n",
       "</tr>\n",
       "<tr>\n",
       "       <td>Df Model:</td>              <td>2</td>         <td>Log-Likelihood:</td>    <td>-220.69</td> \n",
       "</tr>\n",
       "<tr>\n",
       "     <td>Df Residuals:</td>           <td>377</td>           <td>LL-Null:</td>        <td>-253.58</td> \n",
       "</tr>\n",
       "<tr>\n",
       "      <td>Converged:</td>           <td>1.0000</td>        <td>LLR p-value:</td>    <td>5.1893e-15</td>\n",
       "</tr>\n",
       "<tr>\n",
       "    <td>No. Iterations:</td>        <td>6.0000</td>           <td>Scale:</td>         <td>1.0000</td>  \n",
       "</tr>\n",
       "</table>\n",
       "<table class=\"simpletable\">\n",
       "<tr>\n",
       "      <td></td>       <th>Coef.</th>  <th>Std.Err.</th>    <th>z</th>     <th>P>|z|</th> <th>[0.025</th>  <th>0.975]</th>\n",
       "</tr>\n",
       "<tr>\n",
       "  <th>Intercept</th> <td>-2.8142</td>  <td>1.4961</td>  <td>-1.8811</td> <td>0.0600</td> <td>-5.7465</td> <td>0.1180</td>\n",
       "</tr>\n",
       "<tr>\n",
       "  <th>MEMPC</th>     <td>7.6475</td>   <td>1.1664</td>  <td>6.5563</td>  <td>0.0000</td> <td>5.3613</td>  <td>9.9336</td>\n",
       "</tr>\n",
       "<tr>\n",
       "  <th>LOGPOP</th>    <td>-0.1388</td>  <td>0.0736</td>  <td>-1.8871</td> <td>0.0591</td> <td>-0.2830</td> <td>0.0054</td>\n",
       "</tr>\n",
       "</table><br/>\n"
      ],
      "text/latex": [
       "\\begin{table}\n",
       "\\caption{Results: Logit}\n",
       "\\label{}\n",
       "\\begin{center}\n",
       "\\begin{tabular}{llll}\n",
       "\\hline\n",
       "Model:              & Logit            & Method:           & MLE         \\\\\n",
       "Dependent Variable: & SUCCESS          & Pseudo R-squared: & 0.130       \\\\\n",
       "Date:               & 2023-12-04 17:21 & AIC:              & 447.3747    \\\\\n",
       "No. Observations:   & 380              & BIC:              & 459.1952    \\\\\n",
       "Df Model:           & 2                & Log-Likelihood:   & -220.69     \\\\\n",
       "Df Residuals:       & 377              & LL-Null:          & -253.58     \\\\\n",
       "Converged:          & 1.0000           & LLR p-value:      & 5.1893e-15  \\\\\n",
       "No. Iterations:     & 6.0000           & Scale:            & 1.0000      \\\\\n",
       "\\hline\n",
       "\\end{tabular}\n",
       "\\end{center}\n",
       "\n",
       "\\begin{center}\n",
       "\\begin{tabular}{lrrrrrr}\n",
       "\\hline\n",
       "          &   Coef. & Std.Err. &       z & P$> |$z$|$ &  [0.025 & 0.975]  \\\\\n",
       "\\hline\n",
       "Intercept & -2.8142 &   1.4961 & -1.8811 &      0.0600 & -5.7465 & 0.1180  \\\\\n",
       "MEMPC     &  7.6475 &   1.1664 &  6.5563 &      0.0000 &  5.3613 & 9.9336  \\\\\n",
       "LOGPOP    & -0.1388 &   0.0736 & -1.8871 &      0.0591 & -0.2830 & 0.0054  \\\\\n",
       "\\hline\n",
       "\\end{tabular}\n",
       "\\end{center}\n",
       "\\end{table}\n",
       "\\bigskip\n"
      ],
      "text/plain": [
       "<class 'statsmodels.iolib.summary2.Summary'>\n",
       "\"\"\"\n",
       "                         Results: Logit\n",
       "=================================================================\n",
       "Model:              Logit            Method:           MLE       \n",
       "Dependent Variable: SUCCESS          Pseudo R-squared: 0.130     \n",
       "Date:               2023-12-04 17:21 AIC:              447.3747  \n",
       "No. Observations:   380              BIC:              459.1952  \n",
       "Df Model:           2                Log-Likelihood:   -220.69   \n",
       "Df Residuals:       377              LL-Null:          -253.58   \n",
       "Converged:          1.0000           LLR p-value:      5.1893e-15\n",
       "No. Iterations:     6.0000           Scale:            1.0000    \n",
       "------------------------------------------------------------------\n",
       "                Coef.   Std.Err.     z     P>|z|    [0.025  0.975]\n",
       "------------------------------------------------------------------\n",
       "Intercept      -2.8142    1.4961  -1.8811  0.0600  -5.7465  0.1180\n",
       "MEMPC           7.6475    1.1664   6.5563  0.0000   5.3613  9.9336\n",
       "LOGPOP         -0.1388    0.0736  -1.8871  0.0591  -0.2830  0.0054\n",
       "=================================================================\n",
       "\n",
       "\"\"\""
      ]
     },
     "execution_count": 59,
     "metadata": {},
     "output_type": "execute_result"
    }
   ],
   "source": [
    "linear_success = logit(\"SUCCESS ~ MEMPC + LOGPOP\", scatter_linear_df).fit() # fit the model\n",
    "linear_success.summary2() # display the summary"
   ]
  },
  {
   "cell_type": "markdown",
   "metadata": {},
   "source": [
    "Now that everything is done its time to create the plot."
   ]
  },
  {
   "cell_type": "code",
   "execution_count": 60,
   "metadata": {},
   "outputs": [
    {
     "data": {
      "image/png": "[encoded data removed]",
      "text/plain": [
       "<Figure size 1200x800 with 1 Axes>"
      ]
     },
     "metadata": {},
     "output_type": "display_data"
    }
   ],
   "source": [
    "X = scatter_df[['MEMPC', 'LOGPOP']] # set the independent variables\n",
    "y_prob = 1 / (1 + np.exp(-linear_success.fittedvalues))  # calculate the probability of success, set the dependent variable\n",
    "x = X.iloc[:, 0] # set the x axis\n",
    "\n",
    "plt.figure(figsize=[12, 8]) # set the figure size\n",
    "plt.scatter(x, y_prob) # plot the scatter plot\n",
    "plt.ylabel('Probability of Success', fontsize=12) # set the y label\n",
    "plt.xlabel('Participants per Capita', fontsize=12)  # set the x label\n",
    "\n",
    "plt.show() # display the plot\n",
    "\n"
   ]
  },
  {
   "cell_type": "markdown",
   "metadata": {},
   "source": [
    "For this plot once again we will copy the scatter dataframe to a new one named `scatter_linear_df2`"
   ]
  },
  {
   "cell_type": "code",
   "execution_count": 61,
   "metadata": {},
   "outputs": [],
   "source": [
    "scatter_linear_df2 = scatter_df.copy()"
   ]
  },
  {
   "cell_type": "markdown",
   "metadata": {},
   "source": [
    "And now once again we will do the binary logistic regression with the use of logit."
   ]
  },
  {
   "cell_type": "code",
   "execution_count": 62,
   "metadata": {},
   "outputs": [
    {
     "name": "stdout",
     "output_type": "stream",
     "text": [
      "Optimization terminated successfully.\n",
      "         Current function value: 0.585556\n",
      "         Iterations 6\n"
     ]
    },
    {
     "data": {
      "text/html": [
       "<table class=\"simpletable\">\n",
       "<tr>\n",
       "        <td>Model:</td>              <td>Logit</td>           <td>Method:</td>          <td>MLE</td>   \n",
       "</tr>\n",
       "<tr>\n",
       "  <td>Dependent Variable:</td>      <td>SUCCESS</td>     <td>Pseudo R-squared:</td>    <td>0.123</td>  \n",
       "</tr>\n",
       "<tr>\n",
       "         <td>Date:</td>        <td>2023-12-04 17:21</td>       <td>AIC:</td>         <td>449.0222</td> \n",
       "</tr>\n",
       "<tr>\n",
       "   <td>No. Observations:</td>         <td>380</td>             <td>BIC:</td>         <td>456.9026</td> \n",
       "</tr>\n",
       "<tr>\n",
       "       <td>Df Model:</td>              <td>1</td>         <td>Log-Likelihood:</td>    <td>-222.51</td> \n",
       "</tr>\n",
       "<tr>\n",
       "     <td>Df Residuals:</td>           <td>378</td>           <td>LL-Null:</td>        <td>-253.58</td> \n",
       "</tr>\n",
       "<tr>\n",
       "      <td>Converged:</td>           <td>1.0000</td>        <td>LLR p-value:</td>    <td>3.2041e-15</td>\n",
       "</tr>\n",
       "<tr>\n",
       "    <td>No. Iterations:</td>        <td>6.0000</td>           <td>Scale:</td>         <td>1.0000</td>  \n",
       "</tr>\n",
       "</table>\n",
       "<table class=\"simpletable\">\n",
       "<tr>\n",
       "      <td></td>       <th>Coef.</th>  <th>Std.Err.</th>    <th>z</th>     <th>P>|z|</th> <th>[0.025</th>  <th>0.975]</th> \n",
       "</tr>\n",
       "<tr>\n",
       "  <th>Intercept</th> <td>-5.3469</td>  <td>0.7095</td>  <td>-7.5362</td> <td>0.0000</td> <td>-6.7375</td> <td>-3.9563</td>\n",
       "</tr>\n",
       "<tr>\n",
       "  <th>MEMPC</th>     <td>8.0495</td>   <td>1.1414</td>  <td>7.0524</td>  <td>0.0000</td> <td>5.8125</td>  <td>10.2866</td>\n",
       "</tr>\n",
       "</table><br/>\n"
      ],
      "text/latex": [
       "\\begin{table}\n",
       "\\caption{Results: Logit}\n",
       "\\label{}\n",
       "\\begin{center}\n",
       "\\begin{tabular}{llll}\n",
       "\\hline\n",
       "Model:              & Logit            & Method:           & MLE         \\\\\n",
       "Dependent Variable: & SUCCESS          & Pseudo R-squared: & 0.123       \\\\\n",
       "Date:               & 2023-12-04 17:21 & AIC:              & 449.0222    \\\\\n",
       "No. Observations:   & 380              & BIC:              & 456.9026    \\\\\n",
       "Df Model:           & 1                & Log-Likelihood:   & -222.51     \\\\\n",
       "Df Residuals:       & 378              & LL-Null:          & -253.58     \\\\\n",
       "Converged:          & 1.0000           & LLR p-value:      & 3.2041e-15  \\\\\n",
       "No. Iterations:     & 6.0000           & Scale:            & 1.0000      \\\\\n",
       "\\hline\n",
       "\\end{tabular}\n",
       "\\end{center}\n",
       "\n",
       "\\begin{center}\n",
       "\\begin{tabular}{lrrrrrr}\n",
       "\\hline\n",
       "          &   Coef. & Std.Err. &       z & P$> |$z$|$ &  [0.025 &  0.975]  \\\\\n",
       "\\hline\n",
       "Intercept & -5.3469 &   0.7095 & -7.5362 &      0.0000 & -6.7375 & -3.9563  \\\\\n",
       "MEMPC     &  8.0495 &   1.1414 &  7.0524 &      0.0000 &  5.8125 & 10.2866  \\\\\n",
       "\\hline\n",
       "\\end{tabular}\n",
       "\\end{center}\n",
       "\\end{table}\n",
       "\\bigskip\n"
      ],
      "text/plain": [
       "<class 'statsmodels.iolib.summary2.Summary'>\n",
       "\"\"\"\n",
       "                         Results: Logit\n",
       "=================================================================\n",
       "Model:              Logit            Method:           MLE       \n",
       "Dependent Variable: SUCCESS          Pseudo R-squared: 0.123     \n",
       "Date:               2023-12-04 17:21 AIC:              449.0222  \n",
       "No. Observations:   380              BIC:              456.9026  \n",
       "Df Model:           1                Log-Likelihood:   -222.51   \n",
       "Df Residuals:       378              LL-Null:          -253.58   \n",
       "Converged:          1.0000           LLR p-value:      3.2041e-15\n",
       "No. Iterations:     6.0000           Scale:            1.0000    \n",
       "------------------------------------------------------------------\n",
       "               Coef.   Std.Err.     z     P>|z|    [0.025   0.975]\n",
       "------------------------------------------------------------------\n",
       "Intercept     -5.3469    0.7095  -7.5362  0.0000  -6.7375  -3.9563\n",
       "MEMPC          8.0495    1.1414   7.0524  0.0000   5.8125  10.2866\n",
       "=================================================================\n",
       "\n",
       "\"\"\""
      ]
     },
     "execution_count": 62,
     "metadata": {},
     "output_type": "execute_result"
    }
   ],
   "source": [
    "linear_success_mempc = logit(\"SUCCESS ~ MEMPC\", scatter_linear_df2).fit()\n",
    "\n",
    "# Display the summary of the logistic regression model\n",
    "linear_success_mempc.summary2()"
   ]
  },
  {
   "cell_type": "markdown",
   "metadata": {},
   "source": [
    "Now that all is done it's time to create the plot."
   ]
  },
  {
   "cell_type": "code",
   "execution_count": 63,
   "metadata": {},
   "outputs": [
    {
     "data": {
      "image/png": "[encoded data removed]",
      "text/plain": [
       "<Figure size 1200x800 with 1 Axes>"
      ]
     },
     "metadata": {},
     "output_type": "display_data"
    }
   ],
   "source": [
    "X_mempc = scatter_df[['MEMPC']] # set the independent variable\n",
    "y_prob_mempc = 1 / (1 + np.exp(-linear_success_mempc.fittedvalues)) # calculate the probability of success, set the dependent variable\n",
    "\n",
    "# Create the new scatter plot\n",
    "plt.figure(figsize=[12, 8]) # set the figure size\n",
    "plt.scatter(X_mempc, y_prob_mempc) # plot the scatter plot\n",
    "plt.ylabel('Probability of Success', fontsize=12) # set the y label\n",
    "plt.xlabel('Participants per Capita, logged', fontsize=12)  # set the x label\n",
    "\n",
    "plt.show()  # display the plot"
   ]
  },
  {
   "cell_type": "markdown",
   "metadata": {},
   "source": [
    "## 4. The Level of Participation Tipping Point"
   ]
  },
  {
   "cell_type": "markdown",
   "metadata": {},
   "source": [
    "First of all, we create a new df by selecting and copying only the columns we will need from the initial one."
   ]
  },
  {
   "cell_type": "code",
   "execution_count": 64,
   "metadata": {},
   "outputs": [
    {
     "data": {
      "text/html": [
       "<div>\n",
       "<style scoped>\n",
       "    .dataframe tbody tr th:only-of-type {\n",
       "        vertical-align: middle;\n",
       "    }\n",
       "\n",
       "    .dataframe tbody tr th {\n",
       "        vertical-align: top;\n",
       "    }\n",
       "\n",
       "    .dataframe thead th {\n",
       "        text-align: right;\n",
       "    }\n",
       "</style>\n",
       "<table border=\"1\" class=\"dataframe\">\n",
       "  <thead>\n",
       "    <tr style=\"text-align: right;\">\n",
       "      <th></th>\n",
       "      <th>SUCCESS</th>\n",
       "      <th>PARTICIPATION</th>\n",
       "      <th>PERCENTAGE POPULAR PARTICIPATION</th>\n",
       "      <th>CAMPAIGN</th>\n",
       "    </tr>\n",
       "  </thead>\n",
       "  <tbody>\n",
       "    <tr>\n",
       "      <th>0</th>\n",
       "      <td>1</td>\n",
       "      <td>900000.0</td>\n",
       "      <td>0.450129</td>\n",
       "      <td>Slovenian independence</td>\n",
       "    </tr>\n",
       "    <tr>\n",
       "      <th>1</th>\n",
       "      <td>1</td>\n",
       "      <td>9000000.0</td>\n",
       "      <td>0.302013</td>\n",
       "      <td>pro-democracy movement</td>\n",
       "    </tr>\n",
       "    <tr>\n",
       "      <th>2</th>\n",
       "      <td>1</td>\n",
       "      <td>1000000.0</td>\n",
       "      <td>0.285063</td>\n",
       "      <td>Zambian independence movement</td>\n",
       "    </tr>\n",
       "    <tr>\n",
       "      <th>3</th>\n",
       "      <td>1</td>\n",
       "      <td>1000000.0</td>\n",
       "      <td>0.250824</td>\n",
       "      <td>Cedar Revolution</td>\n",
       "    </tr>\n",
       "    <tr>\n",
       "      <th>4</th>\n",
       "      <td>1</td>\n",
       "      <td>800000.0</td>\n",
       "      <td>0.194598</td>\n",
       "      <td>Lebanon Political Crisis</td>\n",
       "    </tr>\n",
       "  </tbody>\n",
       "</table>\n",
       "</div>"
      ],
      "text/plain": [
       "   SUCCESS  PARTICIPATION  PERCENTAGE POPULAR PARTICIPATION  \\\n",
       "0        1       900000.0                          0.450129   \n",
       "1        1      9000000.0                          0.302013   \n",
       "2        1      1000000.0                          0.285063   \n",
       "3        1      1000000.0                          0.250824   \n",
       "4        1       800000.0                          0.194598   \n",
       "\n",
       "                        CAMPAIGN  \n",
       "0         Slovenian independence  \n",
       "1         pro-democracy movement  \n",
       "2  Zambian independence movement  \n",
       "3               Cedar Revolution  \n",
       "4       Lebanon Political Crisis  "
      ]
     },
     "metadata": {},
     "output_type": "display_data"
    }
   ],
   "source": [
    "new_df = df[['SUCCESS', 'PARTICIPATION', 'PERCENTAGE POPULAR PARTICIPATION', 'CAMPAIGN']].copy()\n",
    "\n",
    "display(new_df.head())"
   ]
  },
  {
   "cell_type": "markdown",
   "metadata": {},
   "source": [
    "As we can tell, the percentage popular participationg is not in the % value but as a decimal (Not 45% but 0.45). \n",
    "\n",
    "So, for our calculation purposes we will multiply these columns with 100, so we won't get mixed up with the decimals, but also for presantation purposes later on."
   ]
  },
  {
   "cell_type": "code",
   "execution_count": 65,
   "metadata": {},
   "outputs": [
    {
     "data": {
      "text/html": [
       "<div>\n",
       "<style scoped>\n",
       "    .dataframe tbody tr th:only-of-type {\n",
       "        vertical-align: middle;\n",
       "    }\n",
       "\n",
       "    .dataframe tbody tr th {\n",
       "        vertical-align: top;\n",
       "    }\n",
       "\n",
       "    .dataframe thead th {\n",
       "        text-align: right;\n",
       "    }\n",
       "</style>\n",
       "<table border=\"1\" class=\"dataframe\">\n",
       "  <thead>\n",
       "    <tr style=\"text-align: right;\">\n",
       "      <th></th>\n",
       "      <th>SUCCESS</th>\n",
       "      <th>PARTICIPATION</th>\n",
       "      <th>PERCENTAGE POPULAR PARTICIPATION</th>\n",
       "      <th>CAMPAIGN</th>\n",
       "    </tr>\n",
       "  </thead>\n",
       "  <tbody>\n",
       "    <tr>\n",
       "      <th>0</th>\n",
       "      <td>1</td>\n",
       "      <td>900000.0</td>\n",
       "      <td>45.012851</td>\n",
       "      <td>Slovenian independence</td>\n",
       "    </tr>\n",
       "    <tr>\n",
       "      <th>1</th>\n",
       "      <td>1</td>\n",
       "      <td>9000000.0</td>\n",
       "      <td>30.201342</td>\n",
       "      <td>pro-democracy movement</td>\n",
       "    </tr>\n",
       "    <tr>\n",
       "      <th>2</th>\n",
       "      <td>1</td>\n",
       "      <td>1000000.0</td>\n",
       "      <td>28.506271</td>\n",
       "      <td>Zambian independence movement</td>\n",
       "    </tr>\n",
       "    <tr>\n",
       "      <th>3</th>\n",
       "      <td>1</td>\n",
       "      <td>1000000.0</td>\n",
       "      <td>25.082446</td>\n",
       "      <td>Cedar Revolution</td>\n",
       "    </tr>\n",
       "    <tr>\n",
       "      <th>4</th>\n",
       "      <td>1</td>\n",
       "      <td>800000.0</td>\n",
       "      <td>19.459763</td>\n",
       "      <td>Lebanon Political Crisis</td>\n",
       "    </tr>\n",
       "  </tbody>\n",
       "</table>\n",
       "</div>"
      ],
      "text/plain": [
       "   SUCCESS  PARTICIPATION  PERCENTAGE POPULAR PARTICIPATION  \\\n",
       "0        1       900000.0                         45.012851   \n",
       "1        1      9000000.0                         30.201342   \n",
       "2        1      1000000.0                         28.506271   \n",
       "3        1      1000000.0                         25.082446   \n",
       "4        1       800000.0                         19.459763   \n",
       "\n",
       "                        CAMPAIGN  \n",
       "0         Slovenian independence  \n",
       "1         pro-democracy movement  \n",
       "2  Zambian independence movement  \n",
       "3               Cedar Revolution  \n",
       "4       Lebanon Political Crisis  "
      ]
     },
     "metadata": {},
     "output_type": "display_data"
    }
   ],
   "source": [
    "new_df['PERCENTAGE POPULAR PARTICIPATION'] = new_df['PERCENTAGE POPULAR PARTICIPATION'] * 100.0\n",
    "\n",
    "display(new_df.head())"
   ]
  },
  {
   "cell_type": "markdown",
   "metadata": {},
   "source": [
    "The next thing we need to do is create the bins and label them. We will start by 0.0001 because we do not want 0 included in our calculations. The rest are just like the ones showed in the example. (`float(inf)` is for the infinite)"
   ]
  },
  {
   "cell_type": "code",
   "execution_count": 66,
   "metadata": {},
   "outputs": [],
   "source": [
    "# Define the bins for categorization\n",
    "bins = [0.0001, 0.0035, 0.015, 0.06, 0.25, 1.0, 3.5, float('inf')]\n",
    "labels = ['less than 0.0035%', '0.0035% - 0.015%', '0.015% - 0.06%', '0.06% - 0.25%', '0.25% - 1.0%', '1.0% - 3.5%', 'greater than 3.5%']"
   ]
  },
  {
   "cell_type": "markdown",
   "metadata": {},
   "source": [
    "Now we will use the `cut` method of pandas to separate our data based on the percentages of data and on the bins that were created above. We will also create a new column where these labels will go.  "
   ]
  },
  {
   "cell_type": "code",
   "execution_count": 67,
   "metadata": {},
   "outputs": [
    {
     "data": {
      "text/html": [
       "<div>\n",
       "<style scoped>\n",
       "    .dataframe tbody tr th:only-of-type {\n",
       "        vertical-align: middle;\n",
       "    }\n",
       "\n",
       "    .dataframe tbody tr th {\n",
       "        vertical-align: top;\n",
       "    }\n",
       "\n",
       "    .dataframe thead th {\n",
       "        text-align: right;\n",
       "    }\n",
       "</style>\n",
       "<table border=\"1\" class=\"dataframe\">\n",
       "  <thead>\n",
       "    <tr style=\"text-align: right;\">\n",
       "      <th></th>\n",
       "      <th>SUCCESS</th>\n",
       "      <th>PARTICIPATION</th>\n",
       "      <th>PERCENTAGE POPULAR PARTICIPATION</th>\n",
       "      <th>CAMPAIGN</th>\n",
       "      <th>Peak Popular Participation (%)</th>\n",
       "    </tr>\n",
       "  </thead>\n",
       "  <tbody>\n",
       "    <tr>\n",
       "      <th>0</th>\n",
       "      <td>1</td>\n",
       "      <td>900000.0</td>\n",
       "      <td>45.012851</td>\n",
       "      <td>Slovenian independence</td>\n",
       "      <td>greater than 3.5%</td>\n",
       "    </tr>\n",
       "    <tr>\n",
       "      <th>1</th>\n",
       "      <td>1</td>\n",
       "      <td>9000000.0</td>\n",
       "      <td>30.201342</td>\n",
       "      <td>pro-democracy movement</td>\n",
       "      <td>greater than 3.5%</td>\n",
       "    </tr>\n",
       "    <tr>\n",
       "      <th>2</th>\n",
       "      <td>1</td>\n",
       "      <td>1000000.0</td>\n",
       "      <td>28.506271</td>\n",
       "      <td>Zambian independence movement</td>\n",
       "      <td>greater than 3.5%</td>\n",
       "    </tr>\n",
       "    <tr>\n",
       "      <th>3</th>\n",
       "      <td>1</td>\n",
       "      <td>1000000.0</td>\n",
       "      <td>25.082446</td>\n",
       "      <td>Cedar Revolution</td>\n",
       "      <td>greater than 3.5%</td>\n",
       "    </tr>\n",
       "    <tr>\n",
       "      <th>4</th>\n",
       "      <td>1</td>\n",
       "      <td>800000.0</td>\n",
       "      <td>19.459763</td>\n",
       "      <td>Lebanon Political Crisis</td>\n",
       "      <td>greater than 3.5%</td>\n",
       "    </tr>\n",
       "  </tbody>\n",
       "</table>\n",
       "</div>"
      ],
      "text/plain": [
       "   SUCCESS  PARTICIPATION  PERCENTAGE POPULAR PARTICIPATION  \\\n",
       "0        1       900000.0                         45.012851   \n",
       "1        1      9000000.0                         30.201342   \n",
       "2        1      1000000.0                         28.506271   \n",
       "3        1      1000000.0                         25.082446   \n",
       "4        1       800000.0                         19.459763   \n",
       "\n",
       "                        CAMPAIGN Peak Popular Participation (%)  \n",
       "0         Slovenian independence              greater than 3.5%  \n",
       "1         pro-democracy movement              greater than 3.5%  \n",
       "2  Zambian independence movement              greater than 3.5%  \n",
       "3               Cedar Revolution              greater than 3.5%  \n",
       "4       Lebanon Political Crisis              greater than 3.5%  "
      ]
     },
     "metadata": {},
     "output_type": "display_data"
    }
   ],
   "source": [
    "# Categorize the data based on the specified bins\n",
    "new_df['Peak Popular Participation (%)'] = pd.cut(new_df['PERCENTAGE POPULAR PARTICIPATION'], bins=bins, labels=labels, right=False)\n",
    "\n",
    "display(new_df.head())"
   ]
  },
  {
   "cell_type": "markdown",
   "metadata": {},
   "source": [
    "The next thing that we will need to do is group by our data based on their label (`Peak Popular Participation (%)`) and calculate the sum of success and the amount of campaigns. The amount of campaigns will be our Observations and by diving the sum with it, we will be able to get the Success Rate. We will also set an if Statement if there is any Observations for each Peak Popular Participation, so we won't be dividing with 0 if there is none."
   ]
  },
  {
   "cell_type": "code",
   "execution_count": 68,
   "metadata": {},
   "outputs": [
    {
     "data": {
      "text/html": [
       "<div>\n",
       "<style scoped>\n",
       "    .dataframe tbody tr th:only-of-type {\n",
       "        vertical-align: middle;\n",
       "    }\n",
       "\n",
       "    .dataframe tbody tr th {\n",
       "        vertical-align: top;\n",
       "    }\n",
       "\n",
       "    .dataframe thead th {\n",
       "        text-align: right;\n",
       "    }\n",
       "</style>\n",
       "<table border=\"1\" class=\"dataframe\">\n",
       "  <thead>\n",
       "    <tr style=\"text-align: right;\">\n",
       "      <th></th>\n",
       "      <th>Peak Popular Participation (%)</th>\n",
       "      <th>SUCCESS</th>\n",
       "      <th>CAMPAIGN</th>\n",
       "      <th>Success Rate</th>\n",
       "    </tr>\n",
       "  </thead>\n",
       "  <tbody>\n",
       "    <tr>\n",
       "      <th>0</th>\n",
       "      <td>less than 0.0035%</td>\n",
       "      <td>1</td>\n",
       "      <td>24</td>\n",
       "      <td>4.166667</td>\n",
       "    </tr>\n",
       "    <tr>\n",
       "      <th>1</th>\n",
       "      <td>0.0035% - 0.015%</td>\n",
       "      <td>4</td>\n",
       "      <td>44</td>\n",
       "      <td>9.090909</td>\n",
       "    </tr>\n",
       "    <tr>\n",
       "      <th>2</th>\n",
       "      <td>0.015% - 0.06%</td>\n",
       "      <td>16</td>\n",
       "      <td>66</td>\n",
       "      <td>24.242424</td>\n",
       "    </tr>\n",
       "    <tr>\n",
       "      <th>3</th>\n",
       "      <td>0.06% - 0.25%</td>\n",
       "      <td>43</td>\n",
       "      <td>95</td>\n",
       "      <td>45.263158</td>\n",
       "    </tr>\n",
       "    <tr>\n",
       "      <th>4</th>\n",
       "      <td>0.25% - 1.0%</td>\n",
       "      <td>42</td>\n",
       "      <td>92</td>\n",
       "      <td>45.652174</td>\n",
       "    </tr>\n",
       "    <tr>\n",
       "      <th>5</th>\n",
       "      <td>1.0% - 3.5%</td>\n",
       "      <td>25</td>\n",
       "      <td>41</td>\n",
       "      <td>60.975610</td>\n",
       "    </tr>\n",
       "    <tr>\n",
       "      <th>6</th>\n",
       "      <td>greater than 3.5%</td>\n",
       "      <td>16</td>\n",
       "      <td>18</td>\n",
       "      <td>88.888889</td>\n",
       "    </tr>\n",
       "  </tbody>\n",
       "</table>\n",
       "</div>"
      ],
      "text/plain": [
       "  Peak Popular Participation (%)  SUCCESS  CAMPAIGN  Success Rate\n",
       "0              less than 0.0035%        1        24      4.166667\n",
       "1               0.0035% - 0.015%        4        44      9.090909\n",
       "2                 0.015% - 0.06%       16        66     24.242424\n",
       "3                  0.06% - 0.25%       43        95     45.263158\n",
       "4                   0.25% - 1.0%       42        92     45.652174\n",
       "5                    1.0% - 3.5%       25        41     60.975610\n",
       "6              greater than 3.5%       16        18     88.888889"
      ]
     },
     "metadata": {},
     "output_type": "display_data"
    }
   ],
   "source": [
    "# Group by the Participation Category and calculate the observations and success rate\n",
    "result = new_df.groupby('Peak Popular Participation (%)').agg({'SUCCESS': 'sum', 'CAMPAIGN': 'count'}).reset_index()\n",
    "\n",
    "# Handle zero counts to prevent division by zero\n",
    "result['Success Rate'] = result.apply(lambda row: (row['SUCCESS'] / row['CAMPAIGN']) * 100 if row['CAMPAIGN'] != 0 else 0, axis=1)\n",
    "\n",
    "display(result)"
   ]
  },
  {
   "cell_type": "markdown",
   "metadata": {},
   "source": [
    "Now the only things left to do to match the example are:\n",
    "\n",
    "* Rename the columns\n",
    "\n",
    "* keeping only the columns needed for the presentation\n",
    "\n",
    "* Round the Success Rate to 2 decimals and make it as a string so we can add the % symbol\n",
    "\n",
    "* sort the data based on the bins in descending order"
   ]
  },
  {
   "cell_type": "code",
   "execution_count": 69,
   "metadata": {},
   "outputs": [
    {
     "data": {
      "text/html": [
       "<div>\n",
       "<style scoped>\n",
       "    .dataframe tbody tr th:only-of-type {\n",
       "        vertical-align: middle;\n",
       "    }\n",
       "\n",
       "    .dataframe tbody tr th {\n",
       "        vertical-align: top;\n",
       "    }\n",
       "\n",
       "    .dataframe thead th {\n",
       "        text-align: right;\n",
       "    }\n",
       "</style>\n",
       "<table border=\"1\" class=\"dataframe\">\n",
       "  <thead>\n",
       "    <tr style=\"text-align: right;\">\n",
       "      <th></th>\n",
       "      <th>Peak Popular Participation (%)</th>\n",
       "      <th>Observations</th>\n",
       "      <th>Success Rate</th>\n",
       "    </tr>\n",
       "  </thead>\n",
       "  <tbody>\n",
       "    <tr>\n",
       "      <th>0</th>\n",
       "      <td>greater than 3.5%</td>\n",
       "      <td>18</td>\n",
       "      <td>88.89%</td>\n",
       "    </tr>\n",
       "    <tr>\n",
       "      <th>1</th>\n",
       "      <td>1.0% - 3.5%</td>\n",
       "      <td>41</td>\n",
       "      <td>60.98%</td>\n",
       "    </tr>\n",
       "    <tr>\n",
       "      <th>2</th>\n",
       "      <td>0.25% - 1.0%</td>\n",
       "      <td>92</td>\n",
       "      <td>45.65%</td>\n",
       "    </tr>\n",
       "    <tr>\n",
       "      <th>3</th>\n",
       "      <td>0.06% - 0.25%</td>\n",
       "      <td>95</td>\n",
       "      <td>45.26%</td>\n",
       "    </tr>\n",
       "    <tr>\n",
       "      <th>4</th>\n",
       "      <td>0.015% - 0.06%</td>\n",
       "      <td>66</td>\n",
       "      <td>24.24%</td>\n",
       "    </tr>\n",
       "    <tr>\n",
       "      <th>5</th>\n",
       "      <td>0.0035% - 0.015%</td>\n",
       "      <td>44</td>\n",
       "      <td>9.09%</td>\n",
       "    </tr>\n",
       "    <tr>\n",
       "      <th>6</th>\n",
       "      <td>less than 0.0035%</td>\n",
       "      <td>24</td>\n",
       "      <td>4.17%</td>\n",
       "    </tr>\n",
       "  </tbody>\n",
       "</table>\n",
       "</div>"
      ],
      "text/plain": [
       "  Peak Popular Participation (%)  Observations Success Rate\n",
       "0              greater than 3.5%            18       88.89%\n",
       "1                    1.0% - 3.5%            41       60.98%\n",
       "2                   0.25% - 1.0%            92       45.65%\n",
       "3                  0.06% - 0.25%            95       45.26%\n",
       "4                 0.015% - 0.06%            66       24.24%\n",
       "5               0.0035% - 0.015%            44        9.09%\n",
       "6              less than 0.0035%            24        4.17%"
      ]
     },
     "metadata": {},
     "output_type": "display_data"
    }
   ],
   "source": [
    "# Rename columns and format the output\n",
    "result = result.rename(columns={'CAMPAIGN': 'Observations'})\n",
    "result = result[['Peak Popular Participation (%)', 'Observations', 'Success Rate']]\n",
    "result['Success Rate'] = result['Success Rate'].round(2).astype(str) + '%'\n",
    "\n",
    "result = result.sort_values(by='Peak Popular Participation (%)', ascending=False).reset_index(drop=True)\n",
    "\n",
    "# Display the result\n",
    "display(result)"
   ]
  },
  {
   "cell_type": "markdown",
   "metadata": {},
   "source": [
    "Now that all of this is done, it's time to move on with the 2nd part in this question."
   ]
  },
  {
   "cell_type": "markdown",
   "metadata": {},
   "source": [
    "For this part we will use the logistic regression that we did for the 2nd plot in the previous question. Let's see it again."
   ]
  },
  {
   "cell_type": "code",
   "execution_count": 70,
   "metadata": {},
   "outputs": [
    {
     "data": {
      "text/html": [
       "<table class=\"simpletable\">\n",
       "<tr>\n",
       "        <td>Model:</td>              <td>Logit</td>           <td>Method:</td>          <td>MLE</td>   \n",
       "</tr>\n",
       "<tr>\n",
       "  <td>Dependent Variable:</td>      <td>SUCCESS</td>     <td>Pseudo R-squared:</td>    <td>0.123</td>  \n",
       "</tr>\n",
       "<tr>\n",
       "         <td>Date:</td>        <td>2023-12-04 17:21</td>       <td>AIC:</td>         <td>449.0222</td> \n",
       "</tr>\n",
       "<tr>\n",
       "   <td>No. Observations:</td>         <td>380</td>             <td>BIC:</td>         <td>456.9026</td> \n",
       "</tr>\n",
       "<tr>\n",
       "       <td>Df Model:</td>              <td>1</td>         <td>Log-Likelihood:</td>    <td>-222.51</td> \n",
       "</tr>\n",
       "<tr>\n",
       "     <td>Df Residuals:</td>           <td>378</td>           <td>LL-Null:</td>        <td>-253.58</td> \n",
       "</tr>\n",
       "<tr>\n",
       "      <td>Converged:</td>           <td>1.0000</td>        <td>LLR p-value:</td>    <td>3.2041e-15</td>\n",
       "</tr>\n",
       "<tr>\n",
       "    <td>No. Iterations:</td>        <td>6.0000</td>           <td>Scale:</td>         <td>1.0000</td>  \n",
       "</tr>\n",
       "</table>\n",
       "<table class=\"simpletable\">\n",
       "<tr>\n",
       "      <td></td>       <th>Coef.</th>  <th>Std.Err.</th>    <th>z</th>     <th>P>|z|</th> <th>[0.025</th>  <th>0.975]</th> \n",
       "</tr>\n",
       "<tr>\n",
       "  <th>Intercept</th> <td>-5.3469</td>  <td>0.7095</td>  <td>-7.5362</td> <td>0.0000</td> <td>-6.7375</td> <td>-3.9563</td>\n",
       "</tr>\n",
       "<tr>\n",
       "  <th>MEMPC</th>     <td>8.0495</td>   <td>1.1414</td>  <td>7.0524</td>  <td>0.0000</td> <td>5.8125</td>  <td>10.2866</td>\n",
       "</tr>\n",
       "</table><br/>\n"
      ],
      "text/latex": [
       "\\begin{table}\n",
       "\\caption{Results: Logit}\n",
       "\\label{}\n",
       "\\begin{center}\n",
       "\\begin{tabular}{llll}\n",
       "\\hline\n",
       "Model:              & Logit            & Method:           & MLE         \\\\\n",
       "Dependent Variable: & SUCCESS          & Pseudo R-squared: & 0.123       \\\\\n",
       "Date:               & 2023-12-04 17:21 & AIC:              & 449.0222    \\\\\n",
       "No. Observations:   & 380              & BIC:              & 456.9026    \\\\\n",
       "Df Model:           & 1                & Log-Likelihood:   & -222.51     \\\\\n",
       "Df Residuals:       & 378              & LL-Null:          & -253.58     \\\\\n",
       "Converged:          & 1.0000           & LLR p-value:      & 3.2041e-15  \\\\\n",
       "No. Iterations:     & 6.0000           & Scale:            & 1.0000      \\\\\n",
       "\\hline\n",
       "\\end{tabular}\n",
       "\\end{center}\n",
       "\n",
       "\\begin{center}\n",
       "\\begin{tabular}{lrrrrrr}\n",
       "\\hline\n",
       "          &   Coef. & Std.Err. &       z & P$> |$z$|$ &  [0.025 &  0.975]  \\\\\n",
       "\\hline\n",
       "Intercept & -5.3469 &   0.7095 & -7.5362 &      0.0000 & -6.7375 & -3.9563  \\\\\n",
       "MEMPC     &  8.0495 &   1.1414 &  7.0524 &      0.0000 &  5.8125 & 10.2866  \\\\\n",
       "\\hline\n",
       "\\end{tabular}\n",
       "\\end{center}\n",
       "\\end{table}\n",
       "\\bigskip\n"
      ],
      "text/plain": [
       "<class 'statsmodels.iolib.summary2.Summary'>\n",
       "\"\"\"\n",
       "                         Results: Logit\n",
       "=================================================================\n",
       "Model:              Logit            Method:           MLE       \n",
       "Dependent Variable: SUCCESS          Pseudo R-squared: 0.123     \n",
       "Date:               2023-12-04 17:21 AIC:              449.0222  \n",
       "No. Observations:   380              BIC:              456.9026  \n",
       "Df Model:           1                Log-Likelihood:   -222.51   \n",
       "Df Residuals:       378              LL-Null:          -253.58   \n",
       "Converged:          1.0000           LLR p-value:      3.2041e-15\n",
       "No. Iterations:     6.0000           Scale:            1.0000    \n",
       "------------------------------------------------------------------\n",
       "               Coef.   Std.Err.     z     P>|z|    [0.025   0.975]\n",
       "------------------------------------------------------------------\n",
       "Intercept     -5.3469    0.7095  -7.5362  0.0000  -6.7375  -3.9563\n",
       "MEMPC          8.0495    1.1414   7.0524  0.0000   5.8125  10.2866\n",
       "=================================================================\n",
       "\n",
       "\"\"\""
      ]
     },
     "execution_count": 70,
     "metadata": {},
     "output_type": "execute_result"
    }
   ],
   "source": [
    "linear_success_mempc.summary2()"
   ]
  },
  {
   "cell_type": "markdown",
   "metadata": {},
   "source": [
    "Now what we will do is combine `X` and `y_prob` into a single dataframe and sort it."
   ]
  },
  {
   "cell_type": "code",
   "execution_count": 71,
   "metadata": {},
   "outputs": [],
   "source": [
    "# Combine X, y_prob into a DataFrame for sorting\n",
    "sorted_data = pd.DataFrame({'X': X['MEMPC'], 'y_prob': y_prob})\n",
    "sorted_data = sorted_data.sort_values(by='X')"
   ]
  },
  {
   "cell_type": "markdown",
   "metadata": {},
   "source": [
    "The only thing now left to do is create the plot:\n",
    "\n",
    "* We will create a lineplot for the line of the graph\n",
    "\n",
    "* We will get the confidence interval from the `linear_success_mempc`\n",
    "\n",
    "* With that confidence interval known we will calculate the lower bound and upper bound of the confidence interval, to use in `fill_between`\n",
    "\n",
    "* And finally add the labels and the axhline for the 99%\n"
   ]
  },
  {
   "cell_type": "code",
   "execution_count": 86,
   "metadata": {},
   "outputs": [
    {
     "data": {
      "image/png": "[encoded data removed]",
      "text/plain": [
       "<Figure size 1200x800 with 1 Axes>"
      ]
     },
     "metadata": {},
     "output_type": "display_data"
    },
    {
     "name": "stdout",
     "output_type": "stream",
     "text": [
      "Tipping point for success (99% probability): 0.8403388124273167\n",
      "Percentage of participants at tipping point: 6.923709095950988 %\n"
     ]
    }
   ],
   "source": [
    "# Predict the probabilities\n",
    "X = scatter_df[['MEMPC']] # set the independent variable\n",
    "y_prob = 1 / (1 + np.exp(-linear_success_mempc.fittedvalues)) # calculate the probability of success, set the dependent variable\n",
    "\n",
    "# Combine X, y_prob into a DataFrame for sorting\n",
    "sorted_data = pd.DataFrame({'X': X['MEMPC'], 'y_prob': y_prob}) # combine X, y_prob into a DataFrame for sorting\n",
    "sorted_data = sorted_data.sort_values(by='X') # sort the DataFrame by X\n",
    "\n",
    "plt.figure(figsize=[12, 8]) # set the figure size\n",
    "\n",
    "# Use sns.lineplot to plot the line\n",
    "sns.lineplot(x=sorted_data['X'], y=sorted_data['y_prob'],linewidth=3) \n",
    "\n",
    "conf_int = linear_success_mempc.conf_int() # get the confidence interval\n",
    "\n",
    "sorted_data['ci_lower'] = 1 / (1 + np.exp(-(conf_int.iloc[0, 0] + conf_int.iloc[1, 0] * sorted_data['X']))) # calculate the lower bound of the confidence interval\n",
    "sorted_data['ci_upper'] = 1 / (1 + np.exp(-(conf_int.iloc[0, 1] + conf_int.iloc[1, 1] * sorted_data['X']))) # calculate the upper bound of the confidence interval\n",
    "# Add a shaded confidence interval\n",
    "plt.fill_between(sorted_data['X'], (sorted_data['ci_lower']), (sorted_data['ci_upper']), color='b', alpha=.2) # add a shaded confidence interval\n",
    "\n",
    "plt.ylabel('Probability of success', fontsize=18)\n",
    "plt.xlabel('Participants per capita, logged', fontsize=18)\n",
    "plt.axhline(y=0.99, color='red')\n",
    "\n",
    "plt.show()"
   ]
  },
  {
   "cell_type": "markdown",
   "metadata": {},
   "source": [
    "Now that we have the graph we can clearly see the tipping point of success approximately at 0.8, but for better results we will actually code it to get the exact results.\n",
    "\n",
    "What we have to do is find the first x that touches the 99 probability and get its value and we do like this:"
   ]
  },
  {
   "cell_type": "code",
   "execution_count": 87,
   "metadata": {},
   "outputs": [
    {
     "data": {
      "text/plain": [
       "0.8403388124273167"
      ]
     },
     "metadata": {},
     "output_type": "display_data"
    }
   ],
   "source": [
    "# Find the index where the probability first crosses 0.99\n",
    "index_tipping_point = (sorted_data['ci_upper'] >= 0.99).idxmax()\n",
    "\n",
    "# Get the X value at the tipping point\n",
    "x_tipping_point = sorted_data.loc[index_tipping_point, 'X']\n",
    "\n",
    "display(x_tipping_point)"
   ]
  },
  {
   "cell_type": "markdown",
   "metadata": {},
   "source": [
    "And we just add some prints for better understanding of what they show:"
   ]
  },
  {
   "cell_type": "code",
   "execution_count": 91,
   "metadata": {},
   "outputs": [
    {
     "name": "stdout",
     "output_type": "stream",
     "text": [
      "Tipping point for success (99% probability): 0.84\n",
      "Percentage of participants at tipping point: 6.92 %\n"
     ]
    }
   ],
   "source": [
    "print(\"Tipping point for success (99% probability):\", x_tipping_point)\n",
    "\n",
    "print(\"Percentage of participants at tipping point:\", 10**x_tipping_point, \"%\")"
   ]
  },
  {
   "cell_type": "markdown",
   "metadata": {},
   "source": [
    "Also, we will keep only 2 decimals for better presentation."
   ]
  },
  {
   "cell_type": "code",
   "execution_count": null,
   "metadata": {},
   "outputs": [],
   "source": [
    "print(\"Tipping point for success (99% probability):\", x_tipping_point.round(2))\n",
    "\n",
    "print(\"Percentage of participants at tipping point:\", (10**x_tipping_point).round(2), \"%\")"
   ]
  },
  {
   "cell_type": "markdown",
   "metadata": {},
   "source": [
    "So, to reach the tipping point of success in a campaign with 99% probability all that is required is 6.92% of people to participate in it!"
   ]
  },
  {
   "cell_type": "markdown",
   "metadata": {},
   "source": [
    "## 5. Nonviolent Resistance and Target Regime Type"
   ]
  },
  {
   "cell_type": "markdown",
   "metadata": {},
   "source": [
    "The first thing we need to do is read the new xls file that we will need and save it as a new datagrame called p5_df. From this dataframe we will be able to get the polity."
   ]
  },
  {
   "cell_type": "code",
   "execution_count": 73,
   "metadata": {},
   "outputs": [
    {
     "data": {
      "text/html": [
       "<div>\n",
       "<style scoped>\n",
       "    .dataframe tbody tr th:only-of-type {\n",
       "        vertical-align: middle;\n",
       "    }\n",
       "\n",
       "    .dataframe tbody tr th {\n",
       "        vertical-align: top;\n",
       "    }\n",
       "\n",
       "    .dataframe thead th {\n",
       "        text-align: right;\n",
       "    }\n",
       "</style>\n",
       "<table border=\"1\" class=\"dataframe\">\n",
       "  <thead>\n",
       "    <tr style=\"text-align: right;\">\n",
       "      <th></th>\n",
       "      <th>p5</th>\n",
       "      <th>cyear</th>\n",
       "      <th>ccode</th>\n",
       "      <th>scode</th>\n",
       "      <th>country</th>\n",
       "      <th>year</th>\n",
       "      <th>flag</th>\n",
       "      <th>fragment</th>\n",
       "      <th>democ</th>\n",
       "      <th>autoc</th>\n",
       "      <th>...</th>\n",
       "      <th>interim</th>\n",
       "      <th>bmonth</th>\n",
       "      <th>bday</th>\n",
       "      <th>byear</th>\n",
       "      <th>bprec</th>\n",
       "      <th>post</th>\n",
       "      <th>change</th>\n",
       "      <th>d5</th>\n",
       "      <th>sf</th>\n",
       "      <th>regtrans</th>\n",
       "    </tr>\n",
       "  </thead>\n",
       "  <tbody>\n",
       "    <tr>\n",
       "      <th>0</th>\n",
       "      <td>0</td>\n",
       "      <td>7001800</td>\n",
       "      <td>700</td>\n",
       "      <td>AFG</td>\n",
       "      <td>Afghanistan</td>\n",
       "      <td>1800</td>\n",
       "      <td>0</td>\n",
       "      <td>NaN</td>\n",
       "      <td>1</td>\n",
       "      <td>7</td>\n",
       "      <td>...</td>\n",
       "      <td>NaN</td>\n",
       "      <td>1.0</td>\n",
       "      <td>1.0</td>\n",
       "      <td>1800.0</td>\n",
       "      <td>1.0</td>\n",
       "      <td>-6.0</td>\n",
       "      <td>88.0</td>\n",
       "      <td>1.0</td>\n",
       "      <td>NaN</td>\n",
       "      <td>NaN</td>\n",
       "    </tr>\n",
       "    <tr>\n",
       "      <th>1</th>\n",
       "      <td>0</td>\n",
       "      <td>7001801</td>\n",
       "      <td>700</td>\n",
       "      <td>AFG</td>\n",
       "      <td>Afghanistan</td>\n",
       "      <td>1801</td>\n",
       "      <td>0</td>\n",
       "      <td>NaN</td>\n",
       "      <td>1</td>\n",
       "      <td>7</td>\n",
       "      <td>...</td>\n",
       "      <td>NaN</td>\n",
       "      <td>NaN</td>\n",
       "      <td>NaN</td>\n",
       "      <td>NaN</td>\n",
       "      <td>NaN</td>\n",
       "      <td>NaN</td>\n",
       "      <td>NaN</td>\n",
       "      <td>NaN</td>\n",
       "      <td>NaN</td>\n",
       "      <td>NaN</td>\n",
       "    </tr>\n",
       "    <tr>\n",
       "      <th>2</th>\n",
       "      <td>0</td>\n",
       "      <td>7001802</td>\n",
       "      <td>700</td>\n",
       "      <td>AFG</td>\n",
       "      <td>Afghanistan</td>\n",
       "      <td>1802</td>\n",
       "      <td>0</td>\n",
       "      <td>NaN</td>\n",
       "      <td>1</td>\n",
       "      <td>7</td>\n",
       "      <td>...</td>\n",
       "      <td>NaN</td>\n",
       "      <td>NaN</td>\n",
       "      <td>NaN</td>\n",
       "      <td>NaN</td>\n",
       "      <td>NaN</td>\n",
       "      <td>NaN</td>\n",
       "      <td>NaN</td>\n",
       "      <td>NaN</td>\n",
       "      <td>NaN</td>\n",
       "      <td>NaN</td>\n",
       "    </tr>\n",
       "    <tr>\n",
       "      <th>3</th>\n",
       "      <td>0</td>\n",
       "      <td>7001803</td>\n",
       "      <td>700</td>\n",
       "      <td>AFG</td>\n",
       "      <td>Afghanistan</td>\n",
       "      <td>1803</td>\n",
       "      <td>0</td>\n",
       "      <td>NaN</td>\n",
       "      <td>1</td>\n",
       "      <td>7</td>\n",
       "      <td>...</td>\n",
       "      <td>NaN</td>\n",
       "      <td>NaN</td>\n",
       "      <td>NaN</td>\n",
       "      <td>NaN</td>\n",
       "      <td>NaN</td>\n",
       "      <td>NaN</td>\n",
       "      <td>NaN</td>\n",
       "      <td>NaN</td>\n",
       "      <td>NaN</td>\n",
       "      <td>NaN</td>\n",
       "    </tr>\n",
       "    <tr>\n",
       "      <th>4</th>\n",
       "      <td>0</td>\n",
       "      <td>7001804</td>\n",
       "      <td>700</td>\n",
       "      <td>AFG</td>\n",
       "      <td>Afghanistan</td>\n",
       "      <td>1804</td>\n",
       "      <td>0</td>\n",
       "      <td>NaN</td>\n",
       "      <td>1</td>\n",
       "      <td>7</td>\n",
       "      <td>...</td>\n",
       "      <td>NaN</td>\n",
       "      <td>NaN</td>\n",
       "      <td>NaN</td>\n",
       "      <td>NaN</td>\n",
       "      <td>NaN</td>\n",
       "      <td>NaN</td>\n",
       "      <td>NaN</td>\n",
       "      <td>NaN</td>\n",
       "      <td>NaN</td>\n",
       "      <td>NaN</td>\n",
       "    </tr>\n",
       "    <tr>\n",
       "      <th>...</th>\n",
       "      <td>...</td>\n",
       "      <td>...</td>\n",
       "      <td>...</td>\n",
       "      <td>...</td>\n",
       "      <td>...</td>\n",
       "      <td>...</td>\n",
       "      <td>...</td>\n",
       "      <td>...</td>\n",
       "      <td>...</td>\n",
       "      <td>...</td>\n",
       "      <td>...</td>\n",
       "      <td>...</td>\n",
       "      <td>...</td>\n",
       "      <td>...</td>\n",
       "      <td>...</td>\n",
       "      <td>...</td>\n",
       "      <td>...</td>\n",
       "      <td>...</td>\n",
       "      <td>...</td>\n",
       "      <td>...</td>\n",
       "      <td>...</td>\n",
       "    </tr>\n",
       "    <tr>\n",
       "      <th>17569</th>\n",
       "      <td>1</td>\n",
       "      <td>5522014</td>\n",
       "      <td>552</td>\n",
       "      <td>ZIM</td>\n",
       "      <td>Zimbabwe</td>\n",
       "      <td>2014</td>\n",
       "      <td>0</td>\n",
       "      <td>0.0</td>\n",
       "      <td>5</td>\n",
       "      <td>1</td>\n",
       "      <td>...</td>\n",
       "      <td>NaN</td>\n",
       "      <td>NaN</td>\n",
       "      <td>NaN</td>\n",
       "      <td>NaN</td>\n",
       "      <td>NaN</td>\n",
       "      <td>NaN</td>\n",
       "      <td>NaN</td>\n",
       "      <td>NaN</td>\n",
       "      <td>NaN</td>\n",
       "      <td>NaN</td>\n",
       "    </tr>\n",
       "    <tr>\n",
       "      <th>17570</th>\n",
       "      <td>1</td>\n",
       "      <td>5522015</td>\n",
       "      <td>552</td>\n",
       "      <td>ZIM</td>\n",
       "      <td>Zimbabwe</td>\n",
       "      <td>2015</td>\n",
       "      <td>0</td>\n",
       "      <td>0.0</td>\n",
       "      <td>5</td>\n",
       "      <td>1</td>\n",
       "      <td>...</td>\n",
       "      <td>NaN</td>\n",
       "      <td>NaN</td>\n",
       "      <td>NaN</td>\n",
       "      <td>NaN</td>\n",
       "      <td>NaN</td>\n",
       "      <td>NaN</td>\n",
       "      <td>NaN</td>\n",
       "      <td>NaN</td>\n",
       "      <td>NaN</td>\n",
       "      <td>NaN</td>\n",
       "    </tr>\n",
       "    <tr>\n",
       "      <th>17571</th>\n",
       "      <td>1</td>\n",
       "      <td>5522016</td>\n",
       "      <td>552</td>\n",
       "      <td>ZIM</td>\n",
       "      <td>Zimbabwe</td>\n",
       "      <td>2016</td>\n",
       "      <td>0</td>\n",
       "      <td>0.0</td>\n",
       "      <td>5</td>\n",
       "      <td>1</td>\n",
       "      <td>...</td>\n",
       "      <td>NaN</td>\n",
       "      <td>NaN</td>\n",
       "      <td>NaN</td>\n",
       "      <td>NaN</td>\n",
       "      <td>NaN</td>\n",
       "      <td>NaN</td>\n",
       "      <td>NaN</td>\n",
       "      <td>NaN</td>\n",
       "      <td>NaN</td>\n",
       "      <td>NaN</td>\n",
       "    </tr>\n",
       "    <tr>\n",
       "      <th>17572</th>\n",
       "      <td>1</td>\n",
       "      <td>5522017</td>\n",
       "      <td>552</td>\n",
       "      <td>ZIM</td>\n",
       "      <td>Zimbabwe</td>\n",
       "      <td>2017</td>\n",
       "      <td>0</td>\n",
       "      <td>0.0</td>\n",
       "      <td>5</td>\n",
       "      <td>1</td>\n",
       "      <td>...</td>\n",
       "      <td>NaN</td>\n",
       "      <td>NaN</td>\n",
       "      <td>NaN</td>\n",
       "      <td>NaN</td>\n",
       "      <td>NaN</td>\n",
       "      <td>NaN</td>\n",
       "      <td>NaN</td>\n",
       "      <td>NaN</td>\n",
       "      <td>NaN</td>\n",
       "      <td>NaN</td>\n",
       "    </tr>\n",
       "    <tr>\n",
       "      <th>17573</th>\n",
       "      <td>1</td>\n",
       "      <td>5522018</td>\n",
       "      <td>552</td>\n",
       "      <td>ZIM</td>\n",
       "      <td>Zimbabwe</td>\n",
       "      <td>2018</td>\n",
       "      <td>0</td>\n",
       "      <td>0.0</td>\n",
       "      <td>5</td>\n",
       "      <td>1</td>\n",
       "      <td>...</td>\n",
       "      <td>NaN</td>\n",
       "      <td>NaN</td>\n",
       "      <td>NaN</td>\n",
       "      <td>NaN</td>\n",
       "      <td>NaN</td>\n",
       "      <td>NaN</td>\n",
       "      <td>NaN</td>\n",
       "      <td>NaN</td>\n",
       "      <td>NaN</td>\n",
       "      <td>NaN</td>\n",
       "    </tr>\n",
       "  </tbody>\n",
       "</table>\n",
       "<p>17574 rows × 37 columns</p>\n",
       "</div>"
      ],
      "text/plain": [
       "       p5    cyear  ccode scode      country  year  flag  fragment  democ  \\\n",
       "0       0  7001800    700   AFG  Afghanistan  1800     0       NaN      1   \n",
       "1       0  7001801    700   AFG  Afghanistan  1801     0       NaN      1   \n",
       "2       0  7001802    700   AFG  Afghanistan  1802     0       NaN      1   \n",
       "3       0  7001803    700   AFG  Afghanistan  1803     0       NaN      1   \n",
       "4       0  7001804    700   AFG  Afghanistan  1804     0       NaN      1   \n",
       "...    ..      ...    ...   ...          ...   ...   ...       ...    ...   \n",
       "17569   1  5522014    552   ZIM     Zimbabwe  2014     0       0.0      5   \n",
       "17570   1  5522015    552   ZIM     Zimbabwe  2015     0       0.0      5   \n",
       "17571   1  5522016    552   ZIM     Zimbabwe  2016     0       0.0      5   \n",
       "17572   1  5522017    552   ZIM     Zimbabwe  2017     0       0.0      5   \n",
       "17573   1  5522018    552   ZIM     Zimbabwe  2018     0       0.0      5   \n",
       "\n",
       "       autoc  ...  interim  bmonth  bday   byear  bprec  post  change   d5  \\\n",
       "0          7  ...      NaN     1.0   1.0  1800.0    1.0  -6.0    88.0  1.0   \n",
       "1          7  ...      NaN     NaN   NaN     NaN    NaN   NaN     NaN  NaN   \n",
       "2          7  ...      NaN     NaN   NaN     NaN    NaN   NaN     NaN  NaN   \n",
       "3          7  ...      NaN     NaN   NaN     NaN    NaN   NaN     NaN  NaN   \n",
       "4          7  ...      NaN     NaN   NaN     NaN    NaN   NaN     NaN  NaN   \n",
       "...      ...  ...      ...     ...   ...     ...    ...   ...     ...  ...   \n",
       "17569      1  ...      NaN     NaN   NaN     NaN    NaN   NaN     NaN  NaN   \n",
       "17570      1  ...      NaN     NaN   NaN     NaN    NaN   NaN     NaN  NaN   \n",
       "17571      1  ...      NaN     NaN   NaN     NaN    NaN   NaN     NaN  NaN   \n",
       "17572      1  ...      NaN     NaN   NaN     NaN    NaN   NaN     NaN  NaN   \n",
       "17573      1  ...      NaN     NaN   NaN     NaN    NaN   NaN     NaN  NaN   \n",
       "\n",
       "       sf  regtrans  \n",
       "0     NaN       NaN  \n",
       "1     NaN       NaN  \n",
       "2     NaN       NaN  \n",
       "3     NaN       NaN  \n",
       "4     NaN       NaN  \n",
       "...    ..       ...  \n",
       "17569 NaN       NaN  \n",
       "17570 NaN       NaN  \n",
       "17571 NaN       NaN  \n",
       "17572 NaN       NaN  \n",
       "17573 NaN       NaN  \n",
       "\n",
       "[17574 rows x 37 columns]"
      ]
     },
     "metadata": {},
     "output_type": "display_data"
    }
   ],
   "source": [
    "p5_df = pd.read_excel('p5v2018.xls')\n",
    "display(p5_df)"
   ]
  },
  {
   "cell_type": "markdown",
   "metadata": {},
   "source": [
    "Then we need to merge this new dataframe with the initial one so we can have the polity for each country per end year. "
   ]
  },
  {
   "cell_type": "code",
   "execution_count": 74,
   "metadata": {},
   "outputs": [
    {
     "data": {
      "text/html": [
       "<div>\n",
       "<style scoped>\n",
       "    .dataframe tbody tr th:only-of-type {\n",
       "        vertical-align: middle;\n",
       "    }\n",
       "\n",
       "    .dataframe tbody tr th {\n",
       "        vertical-align: top;\n",
       "    }\n",
       "\n",
       "    .dataframe thead th {\n",
       "        text-align: right;\n",
       "    }\n",
       "</style>\n",
       "<table border=\"1\" class=\"dataframe\">\n",
       "  <thead>\n",
       "    <tr style=\"text-align: right;\">\n",
       "      <th></th>\n",
       "      <th>NAVCO ID</th>\n",
       "      <th>CAMPAIGN</th>\n",
       "      <th>LOCATION</th>\n",
       "      <th>BYEAR</th>\n",
       "      <th>EYEAR</th>\n",
       "      <th>TARGET</th>\n",
       "      <th>SUCCESS</th>\n",
       "      <th>LIMITED</th>\n",
       "      <th>FAILURE</th>\n",
       "      <th>ONGOING</th>\n",
       "      <th>...</th>\n",
       "      <th>interim</th>\n",
       "      <th>bmonth</th>\n",
       "      <th>bday</th>\n",
       "      <th>byear</th>\n",
       "      <th>bprec</th>\n",
       "      <th>post</th>\n",
       "      <th>change</th>\n",
       "      <th>d5</th>\n",
       "      <th>sf</th>\n",
       "      <th>regtrans</th>\n",
       "    </tr>\n",
       "  </thead>\n",
       "  <tbody>\n",
       "    <tr>\n",
       "      <th>0</th>\n",
       "      <td>205</td>\n",
       "      <td>Slovenian independence</td>\n",
       "      <td>Slovenia</td>\n",
       "      <td>1990</td>\n",
       "      <td>1991</td>\n",
       "      <td>Yugoslavian rule</td>\n",
       "      <td>1</td>\n",
       "      <td>0</td>\n",
       "      <td>0</td>\n",
       "      <td>0</td>\n",
       "      <td>...</td>\n",
       "      <td>NaN</td>\n",
       "      <td>6.0</td>\n",
       "      <td>25.0</td>\n",
       "      <td>1991.0</td>\n",
       "      <td>1.0</td>\n",
       "      <td>10.0</td>\n",
       "      <td>99.0</td>\n",
       "      <td>1.0</td>\n",
       "      <td>NaN</td>\n",
       "      <td>99.0</td>\n",
       "    </tr>\n",
       "    <tr>\n",
       "      <th>1</th>\n",
       "      <td>33</td>\n",
       "      <td>pro-democracy movement</td>\n",
       "      <td>Argentina</td>\n",
       "      <td>1977</td>\n",
       "      <td>1983</td>\n",
       "      <td>military junta</td>\n",
       "      <td>1</td>\n",
       "      <td>0</td>\n",
       "      <td>0</td>\n",
       "      <td>0</td>\n",
       "      <td>...</td>\n",
       "      <td>-8.0</td>\n",
       "      <td>10.0</td>\n",
       "      <td>31.0</td>\n",
       "      <td>1983.0</td>\n",
       "      <td>1.0</td>\n",
       "      <td>8.0</td>\n",
       "      <td>17.0</td>\n",
       "      <td>1.0</td>\n",
       "      <td>NaN</td>\n",
       "      <td>3.0</td>\n",
       "    </tr>\n",
       "    <tr>\n",
       "      <th>2</th>\n",
       "      <td>53</td>\n",
       "      <td>Cedar Revolution</td>\n",
       "      <td>Lebanon</td>\n",
       "      <td>2005</td>\n",
       "      <td>2005</td>\n",
       "      <td>Syrian forces</td>\n",
       "      <td>1</td>\n",
       "      <td>0</td>\n",
       "      <td>0</td>\n",
       "      <td>0</td>\n",
       "      <td>...</td>\n",
       "      <td>-66.0</td>\n",
       "      <td>4.0</td>\n",
       "      <td>28.0</td>\n",
       "      <td>2005.0</td>\n",
       "      <td>1.0</td>\n",
       "      <td>6.0</td>\n",
       "      <td>1.0</td>\n",
       "      <td>1.0</td>\n",
       "      <td>NaN</td>\n",
       "      <td>0.0</td>\n",
       "    </tr>\n",
       "    <tr>\n",
       "      <th>3</th>\n",
       "      <td>321</td>\n",
       "      <td>Lebanon Political Crisis</td>\n",
       "      <td>Lebanon</td>\n",
       "      <td>2006</td>\n",
       "      <td>2008</td>\n",
       "      <td>Government of Prime Minister Fouad Siniora</td>\n",
       "      <td>1</td>\n",
       "      <td>0</td>\n",
       "      <td>0</td>\n",
       "      <td>0</td>\n",
       "      <td>...</td>\n",
       "      <td>NaN</td>\n",
       "      <td>NaN</td>\n",
       "      <td>NaN</td>\n",
       "      <td>NaN</td>\n",
       "      <td>NaN</td>\n",
       "      <td>NaN</td>\n",
       "      <td>NaN</td>\n",
       "      <td>NaN</td>\n",
       "      <td>NaN</td>\n",
       "      <td>NaN</td>\n",
       "    </tr>\n",
       "    <tr>\n",
       "      <th>4</th>\n",
       "      <td>202</td>\n",
       "      <td>Singing Revolution</td>\n",
       "      <td>Estonia</td>\n",
       "      <td>1987</td>\n",
       "      <td>1991</td>\n",
       "      <td>Communist regime</td>\n",
       "      <td>1</td>\n",
       "      <td>0</td>\n",
       "      <td>0</td>\n",
       "      <td>0</td>\n",
       "      <td>...</td>\n",
       "      <td>NaN</td>\n",
       "      <td>9.0</td>\n",
       "      <td>6.0</td>\n",
       "      <td>1991.0</td>\n",
       "      <td>1.0</td>\n",
       "      <td>6.0</td>\n",
       "      <td>99.0</td>\n",
       "      <td>1.0</td>\n",
       "      <td>NaN</td>\n",
       "      <td>99.0</td>\n",
       "    </tr>\n",
       "  </tbody>\n",
       "</table>\n",
       "<p>5 rows × 63 columns</p>\n",
       "</div>"
      ],
      "text/plain": [
       "   NAVCO ID                  CAMPAIGN   LOCATION  BYEAR  EYEAR  \\\n",
       "0       205    Slovenian independence   Slovenia   1990   1991   \n",
       "1        33    pro-democracy movement  Argentina   1977   1983   \n",
       "2        53          Cedar Revolution    Lebanon   2005   2005   \n",
       "3       321  Lebanon Political Crisis    Lebanon   2006   2008   \n",
       "4       202        Singing Revolution    Estonia   1987   1991   \n",
       "\n",
       "                                       TARGET  SUCCESS  LIMITED  FAILURE  \\\n",
       "0                            Yugoslavian rule        1        0        0   \n",
       "1                              military junta        1        0        0   \n",
       "2                               Syrian forces        1        0        0   \n",
       "3  Government of Prime Minister Fouad Siniora        1        0        0   \n",
       "4                            Communist regime        1        0        0   \n",
       "\n",
       "   ONGOING  ...  interim  bmonth  bday   byear  bprec  post  change   d5  sf  \\\n",
       "0        0  ...      NaN     6.0  25.0  1991.0    1.0  10.0    99.0  1.0 NaN   \n",
       "1        0  ...     -8.0    10.0  31.0  1983.0    1.0   8.0    17.0  1.0 NaN   \n",
       "2        0  ...    -66.0     4.0  28.0  2005.0    1.0   6.0     1.0  1.0 NaN   \n",
       "3        0  ...      NaN     NaN   NaN     NaN    NaN   NaN     NaN  NaN NaN   \n",
       "4        0  ...      NaN     9.0   6.0  1991.0    1.0   6.0    99.0  1.0 NaN   \n",
       "\n",
       "   regtrans  \n",
       "0      99.0  \n",
       "1       3.0  \n",
       "2       0.0  \n",
       "3       NaN  \n",
       "4      99.0  \n",
       "\n",
       "[5 rows x 63 columns]"
      ]
     },
     "metadata": {},
     "output_type": "display_data"
    }
   ],
   "source": [
    "# Merge based on 'EndYear' and 'Country'\n",
    "merged_df = pd.merge(df, p5_df, how='inner', left_on=['EYEAR', 'LOCATION'], right_on=['year', 'country'])\n",
    "\n",
    "display(merged_df.head())"
   ]
  },
  {
   "cell_type": "markdown",
   "metadata": {},
   "source": [
    "and now we will drop the unneccessary year column since it's literally the same as EYEAR."
   ]
  },
  {
   "cell_type": "code",
   "execution_count": 75,
   "metadata": {},
   "outputs": [
    {
     "data": {
      "text/html": [
       "<div>\n",
       "<style scoped>\n",
       "    .dataframe tbody tr th:only-of-type {\n",
       "        vertical-align: middle;\n",
       "    }\n",
       "\n",
       "    .dataframe tbody tr th {\n",
       "        vertical-align: top;\n",
       "    }\n",
       "\n",
       "    .dataframe thead th {\n",
       "        text-align: right;\n",
       "    }\n",
       "</style>\n",
       "<table border=\"1\" class=\"dataframe\">\n",
       "  <thead>\n",
       "    <tr style=\"text-align: right;\">\n",
       "      <th></th>\n",
       "      <th>NAVCO ID</th>\n",
       "      <th>CAMPAIGN</th>\n",
       "      <th>LOCATION</th>\n",
       "      <th>BYEAR</th>\n",
       "      <th>EYEAR</th>\n",
       "      <th>TARGET</th>\n",
       "      <th>SUCCESS</th>\n",
       "      <th>LIMITED</th>\n",
       "      <th>FAILURE</th>\n",
       "      <th>ONGOING</th>\n",
       "      <th>...</th>\n",
       "      <th>interim</th>\n",
       "      <th>bmonth</th>\n",
       "      <th>bday</th>\n",
       "      <th>byear</th>\n",
       "      <th>bprec</th>\n",
       "      <th>post</th>\n",
       "      <th>change</th>\n",
       "      <th>d5</th>\n",
       "      <th>sf</th>\n",
       "      <th>regtrans</th>\n",
       "    </tr>\n",
       "  </thead>\n",
       "  <tbody>\n",
       "    <tr>\n",
       "      <th>0</th>\n",
       "      <td>205</td>\n",
       "      <td>Slovenian independence</td>\n",
       "      <td>Slovenia</td>\n",
       "      <td>1990</td>\n",
       "      <td>1991</td>\n",
       "      <td>Yugoslavian rule</td>\n",
       "      <td>1</td>\n",
       "      <td>0</td>\n",
       "      <td>0</td>\n",
       "      <td>0</td>\n",
       "      <td>...</td>\n",
       "      <td>NaN</td>\n",
       "      <td>6.0</td>\n",
       "      <td>25.0</td>\n",
       "      <td>1991.0</td>\n",
       "      <td>1.0</td>\n",
       "      <td>10.0</td>\n",
       "      <td>99.0</td>\n",
       "      <td>1.0</td>\n",
       "      <td>NaN</td>\n",
       "      <td>99.0</td>\n",
       "    </tr>\n",
       "    <tr>\n",
       "      <th>1</th>\n",
       "      <td>33</td>\n",
       "      <td>pro-democracy movement</td>\n",
       "      <td>Argentina</td>\n",
       "      <td>1977</td>\n",
       "      <td>1983</td>\n",
       "      <td>military junta</td>\n",
       "      <td>1</td>\n",
       "      <td>0</td>\n",
       "      <td>0</td>\n",
       "      <td>0</td>\n",
       "      <td>...</td>\n",
       "      <td>-8.0</td>\n",
       "      <td>10.0</td>\n",
       "      <td>31.0</td>\n",
       "      <td>1983.0</td>\n",
       "      <td>1.0</td>\n",
       "      <td>8.0</td>\n",
       "      <td>17.0</td>\n",
       "      <td>1.0</td>\n",
       "      <td>NaN</td>\n",
       "      <td>3.0</td>\n",
       "    </tr>\n",
       "    <tr>\n",
       "      <th>2</th>\n",
       "      <td>53</td>\n",
       "      <td>Cedar Revolution</td>\n",
       "      <td>Lebanon</td>\n",
       "      <td>2005</td>\n",
       "      <td>2005</td>\n",
       "      <td>Syrian forces</td>\n",
       "      <td>1</td>\n",
       "      <td>0</td>\n",
       "      <td>0</td>\n",
       "      <td>0</td>\n",
       "      <td>...</td>\n",
       "      <td>-66.0</td>\n",
       "      <td>4.0</td>\n",
       "      <td>28.0</td>\n",
       "      <td>2005.0</td>\n",
       "      <td>1.0</td>\n",
       "      <td>6.0</td>\n",
       "      <td>1.0</td>\n",
       "      <td>1.0</td>\n",
       "      <td>NaN</td>\n",
       "      <td>0.0</td>\n",
       "    </tr>\n",
       "    <tr>\n",
       "      <th>3</th>\n",
       "      <td>321</td>\n",
       "      <td>Lebanon Political Crisis</td>\n",
       "      <td>Lebanon</td>\n",
       "      <td>2006</td>\n",
       "      <td>2008</td>\n",
       "      <td>Government of Prime Minister Fouad Siniora</td>\n",
       "      <td>1</td>\n",
       "      <td>0</td>\n",
       "      <td>0</td>\n",
       "      <td>0</td>\n",
       "      <td>...</td>\n",
       "      <td>NaN</td>\n",
       "      <td>NaN</td>\n",
       "      <td>NaN</td>\n",
       "      <td>NaN</td>\n",
       "      <td>NaN</td>\n",
       "      <td>NaN</td>\n",
       "      <td>NaN</td>\n",
       "      <td>NaN</td>\n",
       "      <td>NaN</td>\n",
       "      <td>NaN</td>\n",
       "    </tr>\n",
       "    <tr>\n",
       "      <th>4</th>\n",
       "      <td>202</td>\n",
       "      <td>Singing Revolution</td>\n",
       "      <td>Estonia</td>\n",
       "      <td>1987</td>\n",
       "      <td>1991</td>\n",
       "      <td>Communist regime</td>\n",
       "      <td>1</td>\n",
       "      <td>0</td>\n",
       "      <td>0</td>\n",
       "      <td>0</td>\n",
       "      <td>...</td>\n",
       "      <td>NaN</td>\n",
       "      <td>9.0</td>\n",
       "      <td>6.0</td>\n",
       "      <td>1991.0</td>\n",
       "      <td>1.0</td>\n",
       "      <td>6.0</td>\n",
       "      <td>99.0</td>\n",
       "      <td>1.0</td>\n",
       "      <td>NaN</td>\n",
       "      <td>99.0</td>\n",
       "    </tr>\n",
       "  </tbody>\n",
       "</table>\n",
       "<p>5 rows × 62 columns</p>\n",
       "</div>"
      ],
      "text/plain": [
       "   NAVCO ID                  CAMPAIGN   LOCATION  BYEAR  EYEAR  \\\n",
       "0       205    Slovenian independence   Slovenia   1990   1991   \n",
       "1        33    pro-democracy movement  Argentina   1977   1983   \n",
       "2        53          Cedar Revolution    Lebanon   2005   2005   \n",
       "3       321  Lebanon Political Crisis    Lebanon   2006   2008   \n",
       "4       202        Singing Revolution    Estonia   1987   1991   \n",
       "\n",
       "                                       TARGET  SUCCESS  LIMITED  FAILURE  \\\n",
       "0                            Yugoslavian rule        1        0        0   \n",
       "1                              military junta        1        0        0   \n",
       "2                               Syrian forces        1        0        0   \n",
       "3  Government of Prime Minister Fouad Siniora        1        0        0   \n",
       "4                            Communist regime        1        0        0   \n",
       "\n",
       "   ONGOING  ...  interim  bmonth  bday   byear  bprec  post  change   d5  sf  \\\n",
       "0        0  ...      NaN     6.0  25.0  1991.0    1.0  10.0    99.0  1.0 NaN   \n",
       "1        0  ...     -8.0    10.0  31.0  1983.0    1.0   8.0    17.0  1.0 NaN   \n",
       "2        0  ...    -66.0     4.0  28.0  2005.0    1.0   6.0     1.0  1.0 NaN   \n",
       "3        0  ...      NaN     NaN   NaN     NaN    NaN   NaN     NaN  NaN NaN   \n",
       "4        0  ...      NaN     9.0   6.0  1991.0    1.0   6.0    99.0  1.0 NaN   \n",
       "\n",
       "   regtrans  \n",
       "0      99.0  \n",
       "1       3.0  \n",
       "2       0.0  \n",
       "3       NaN  \n",
       "4      99.0  \n",
       "\n",
       "[5 rows x 62 columns]"
      ]
     },
     "metadata": {},
     "output_type": "display_data"
    }
   ],
   "source": [
    "# Drop the duplicate 'Year' column if needed\n",
    "merged_df = merged_df.drop(columns=['year'])\n",
    "\n",
    "display(merged_df.head())"
   ]
  },
  {
   "cell_type": "markdown",
   "metadata": {},
   "source": [
    "And now we will calculate the population and the logs that are needed."
   ]
  },
  {
   "cell_type": "code",
   "execution_count": 76,
   "metadata": {},
   "outputs": [],
   "source": [
    "merged_df['POPULATION'] = merged_df['PARTICIPATION'] / merged_df['PERCENTAGE POPULAR PARTICIPATION'] # calculate population\n",
    "\n",
    "merged_df['LOGPOP'] = np.log(merged_df['POPULATION']) # log population\n",
    "\n",
    "merged_df['LOGPART'] = np.log(merged_df['PARTICIPATION']) # log participation number"
   ]
  },
  {
   "cell_type": "markdown",
   "metadata": {},
   "source": [
    "For simplicity purposes we will filter the dataframe by keeping only the columns we need."
   ]
  },
  {
   "cell_type": "code",
   "execution_count": 77,
   "metadata": {},
   "outputs": [
    {
     "data": {
      "text/html": [
       "<div>\n",
       "<style scoped>\n",
       "    .dataframe tbody tr th:only-of-type {\n",
       "        vertical-align: middle;\n",
       "    }\n",
       "\n",
       "    .dataframe tbody tr th {\n",
       "        vertical-align: top;\n",
       "    }\n",
       "\n",
       "    .dataframe thead th {\n",
       "        text-align: right;\n",
       "    }\n",
       "</style>\n",
       "<table border=\"1\" class=\"dataframe\">\n",
       "  <thead>\n",
       "    <tr style=\"text-align: right;\">\n",
       "      <th></th>\n",
       "      <th>SUCCESS</th>\n",
       "      <th>NONVIOL</th>\n",
       "      <th>polity</th>\n",
       "      <th>LOGPART</th>\n",
       "      <th>LOGPOP</th>\n",
       "    </tr>\n",
       "  </thead>\n",
       "  <tbody>\n",
       "    <tr>\n",
       "      <th>0</th>\n",
       "      <td>1</td>\n",
       "      <td>1</td>\n",
       "      <td>10</td>\n",
       "      <td>13.710150</td>\n",
       "      <td>14.508372</td>\n",
       "    </tr>\n",
       "    <tr>\n",
       "      <th>1</th>\n",
       "      <td>1</td>\n",
       "      <td>1</td>\n",
       "      <td>8</td>\n",
       "      <td>16.012735</td>\n",
       "      <td>17.210019</td>\n",
       "    </tr>\n",
       "    <tr>\n",
       "      <th>2</th>\n",
       "      <td>1</td>\n",
       "      <td>1</td>\n",
       "      <td>6</td>\n",
       "      <td>13.815511</td>\n",
       "      <td>15.198513</td>\n",
       "    </tr>\n",
       "    <tr>\n",
       "      <th>3</th>\n",
       "      <td>1</td>\n",
       "      <td>1</td>\n",
       "      <td>6</td>\n",
       "      <td>13.592367</td>\n",
       "      <td>15.229188</td>\n",
       "    </tr>\n",
       "    <tr>\n",
       "      <th>4</th>\n",
       "      <td>1</td>\n",
       "      <td>1</td>\n",
       "      <td>6</td>\n",
       "      <td>12.611538</td>\n",
       "      <td>14.261038</td>\n",
       "    </tr>\n",
       "  </tbody>\n",
       "</table>\n",
       "</div>"
      ],
      "text/plain": [
       "   SUCCESS  NONVIOL  polity    LOGPART     LOGPOP\n",
       "0        1        1      10  13.710150  14.508372\n",
       "1        1        1       8  16.012735  17.210019\n",
       "2        1        1       6  13.815511  15.198513\n",
       "3        1        1       6  13.592367  15.229188\n",
       "4        1        1       6  12.611538  14.261038"
      ]
     },
     "metadata": {},
     "output_type": "display_data"
    }
   ],
   "source": [
    "filtered_df = merged_df[['SUCCESS','NONVIOL','polity','LOGPART','LOGPOP']]\n",
    "\n",
    "display(filtered_df.head())"
   ]
  },
  {
   "cell_type": "markdown",
   "metadata": {},
   "source": [
    "The last thing left to do before running our logistic regression is to check for NaN and if there is any drop them"
   ]
  },
  {
   "cell_type": "code",
   "execution_count": 78,
   "metadata": {},
   "outputs": [
    {
     "data": {
      "text/plain": [
       "SUCCESS    0.00000\n",
       "NONVIOL    0.00000\n",
       "polity     0.00000\n",
       "LOGPART    2.24359\n",
       "LOGPOP     2.24359\n",
       "dtype: float64"
      ]
     },
     "metadata": {},
     "output_type": "display_data"
    }
   ],
   "source": [
    "percent_missing = filtered_df.isnull().sum() * 100 / len(filtered_df)\n",
    "display(percent_missing)"
   ]
  },
  {
   "cell_type": "markdown",
   "metadata": {},
   "source": [
    "As we can tell from the output above there is some missing in LOGPART and LOGPOP so we will drop them."
   ]
  },
  {
   "cell_type": "code",
   "execution_count": 79,
   "metadata": {},
   "outputs": [
    {
     "data": {
      "text/plain": [
       "SUCCESS    0.0\n",
       "NONVIOL    0.0\n",
       "polity     0.0\n",
       "LOGPART    0.0\n",
       "LOGPOP     0.0\n",
       "dtype: float64"
      ]
     },
     "metadata": {},
     "output_type": "display_data"
    }
   ],
   "source": [
    "filtered_df = filtered_df.dropna(how='any',axis=0)\n",
    "\n",
    "percent_missing = filtered_df.isnull().sum() * 100 / len(filtered_df)\n",
    "display(percent_missing)"
   ]
  },
  {
   "cell_type": "markdown",
   "metadata": {},
   "source": [
    "And now that we have our dataframe ready it's time to run our binary logistic regression like so:"
   ]
  },
  {
   "cell_type": "code",
   "execution_count": 80,
   "metadata": {},
   "outputs": [
    {
     "name": "stdout",
     "output_type": "stream",
     "text": [
      "Optimization terminated successfully.\n",
      "         Current function value: 0.542765\n",
      "         Iterations 6\n"
     ]
    },
    {
     "data": {
      "text/html": [
       "<table class=\"simpletable\">\n",
       "<tr>\n",
       "        <td>Model:</td>              <td>Logit</td>           <td>Method:</td>          <td>MLE</td>   \n",
       "</tr>\n",
       "<tr>\n",
       "  <td>Dependent Variable:</td>      <td>SUCCESS</td>     <td>Pseudo R-squared:</td>    <td>0.194</td>  \n",
       "</tr>\n",
       "<tr>\n",
       "         <td>Date:</td>        <td>2023-12-04 17:21</td>       <td>AIC:</td>         <td>341.0868</td> \n",
       "</tr>\n",
       "<tr>\n",
       "   <td>No. Observations:</td>         <td>305</td>             <td>BIC:</td>         <td>359.6883</td> \n",
       "</tr>\n",
       "<tr>\n",
       "       <td>Df Model:</td>              <td>4</td>         <td>Log-Likelihood:</td>    <td>-165.54</td> \n",
       "</tr>\n",
       "<tr>\n",
       "     <td>Df Residuals:</td>           <td>300</td>           <td>LL-Null:</td>        <td>-205.27</td> \n",
       "</tr>\n",
       "<tr>\n",
       "      <td>Converged:</td>           <td>1.0000</td>        <td>LLR p-value:</td>    <td>2.2774e-16</td>\n",
       "</tr>\n",
       "<tr>\n",
       "    <td>No. Iterations:</td>        <td>6.0000</td>           <td>Scale:</td>         <td>1.0000</td>  \n",
       "</tr>\n",
       "</table>\n",
       "<table class=\"simpletable\">\n",
       "<tr>\n",
       "      <td></td>       <th>Coef.</th>  <th>Std.Err.</th>    <th>z</th>     <th>P>|z|</th> <th>[0.025</th>  <th>0.975]</th> \n",
       "</tr>\n",
       "<tr>\n",
       "  <th>Intercept</th> <td>1.2494</td>   <td>1.5079</td>  <td>0.8286</td>  <td>0.4073</td> <td>-1.7060</td> <td>4.2049</td> \n",
       "</tr>\n",
       "<tr>\n",
       "  <th>NONVIOL</th>   <td>0.9251</td>   <td>0.2868</td>  <td>3.2253</td>  <td>0.0013</td> <td>0.3629</td>  <td>1.4873</td> \n",
       "</tr>\n",
       "<tr>\n",
       "  <th>polity</th>    <td>-0.0094</td>  <td>0.0040</td>  <td>-2.3393</td> <td>0.0193</td> <td>-0.0173</td> <td>-0.0015</td>\n",
       "</tr>\n",
       "<tr>\n",
       "  <th>LOGPART</th>   <td>0.4256</td>   <td>0.0873</td>  <td>4.8738</td>  <td>0.0000</td> <td>0.2545</td>  <td>0.5968</td> \n",
       "</tr>\n",
       "<tr>\n",
       "  <th>LOGPOP</th>    <td>-0.3941</td>  <td>0.0988</td>  <td>-3.9895</td> <td>0.0001</td> <td>-0.5877</td> <td>-0.2005</td>\n",
       "</tr>\n",
       "</table><br/>\n"
      ],
      "text/latex": [
       "\\begin{table}\n",
       "\\caption{Results: Logit}\n",
       "\\label{}\n",
       "\\begin{center}\n",
       "\\begin{tabular}{llll}\n",
       "\\hline\n",
       "Model:              & Logit            & Method:           & MLE         \\\\\n",
       "Dependent Variable: & SUCCESS          & Pseudo R-squared: & 0.194       \\\\\n",
       "Date:               & 2023-12-04 17:21 & AIC:              & 341.0868    \\\\\n",
       "No. Observations:   & 305              & BIC:              & 359.6883    \\\\\n",
       "Df Model:           & 4                & Log-Likelihood:   & -165.54     \\\\\n",
       "Df Residuals:       & 300              & LL-Null:          & -205.27     \\\\\n",
       "Converged:          & 1.0000           & LLR p-value:      & 2.2774e-16  \\\\\n",
       "No. Iterations:     & 6.0000           & Scale:            & 1.0000      \\\\\n",
       "\\hline\n",
       "\\end{tabular}\n",
       "\\end{center}\n",
       "\n",
       "\\begin{center}\n",
       "\\begin{tabular}{lrrrrrr}\n",
       "\\hline\n",
       "          &   Coef. & Std.Err. &       z & P$> |$z$|$ &  [0.025 &  0.975]  \\\\\n",
       "\\hline\n",
       "Intercept &  1.2494 &   1.5079 &  0.8286 &      0.4073 & -1.7060 &  4.2049  \\\\\n",
       "NONVIOL   &  0.9251 &   0.2868 &  3.2253 &      0.0013 &  0.3629 &  1.4873  \\\\\n",
       "polity    & -0.0094 &   0.0040 & -2.3393 &      0.0193 & -0.0173 & -0.0015  \\\\\n",
       "LOGPART   &  0.4256 &   0.0873 &  4.8738 &      0.0000 &  0.2545 &  0.5968  \\\\\n",
       "LOGPOP    & -0.3941 &   0.0988 & -3.9895 &      0.0001 & -0.5877 & -0.2005  \\\\\n",
       "\\hline\n",
       "\\end{tabular}\n",
       "\\end{center}\n",
       "\\end{table}\n",
       "\\bigskip\n"
      ],
      "text/plain": [
       "<class 'statsmodels.iolib.summary2.Summary'>\n",
       "\"\"\"\n",
       "                         Results: Logit\n",
       "=================================================================\n",
       "Model:              Logit            Method:           MLE       \n",
       "Dependent Variable: SUCCESS          Pseudo R-squared: 0.194     \n",
       "Date:               2023-12-04 17:21 AIC:              341.0868  \n",
       "No. Observations:   305              BIC:              359.6883  \n",
       "Df Model:           4                Log-Likelihood:   -165.54   \n",
       "Df Residuals:       300              LL-Null:          -205.27   \n",
       "Converged:          1.0000           LLR p-value:      2.2774e-16\n",
       "No. Iterations:     6.0000           Scale:            1.0000    \n",
       "------------------------------------------------------------------\n",
       "               Coef.   Std.Err.     z     P>|z|    [0.025   0.975]\n",
       "------------------------------------------------------------------\n",
       "Intercept      1.2494    1.5079   0.8286  0.4073  -1.7060   4.2049\n",
       "NONVIOL        0.9251    0.2868   3.2253  0.0013   0.3629   1.4873\n",
       "polity        -0.0094    0.0040  -2.3393  0.0193  -0.0173  -0.0015\n",
       "LOGPART        0.4256    0.0873   4.8738  0.0000   0.2545   0.5968\n",
       "LOGPOP        -0.3941    0.0988  -3.9895  0.0001  -0.5877  -0.2005\n",
       "=================================================================\n",
       "\n",
       "\"\"\""
      ]
     },
     "execution_count": 80,
     "metadata": {},
     "output_type": "execute_result"
    }
   ],
   "source": [
    "log_df = logit(\"SUCCESS ~ NONVIOL + polity + LOGPART + LOGPOP\",filtered_df).fit()\n",
    "log_df.summary2()"
   ]
  },
  {
   "cell_type": "markdown",
   "metadata": {},
   "source": [
    "# EXPLAIN"
   ]
  }
 ],
 "metadata": {
  "kernelspec": {
   "display_name": "Python 3",
   "language": "python",
   "name": "python3"
  },
  "language_info": {
   "codemirror_mode": {
    "name": "ipython",
    "version": 3
   },
   "file_extension": ".py",
   "mimetype": "text/x-python",
   "name": "python",
   "nbconvert_exporter": "python",
   "pygments_lexer": "ipython3",
   "version": "3.12.0"
  }
 },
 "nbformat": 4,
 "nbformat_minor": 2
}
